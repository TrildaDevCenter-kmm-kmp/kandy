{
 "cells": [
  {
   "metadata": {},
   "cell_type": "code",
   "outputs": [],
   "execution_count": null,
   "source": [
    "%useLatestDescriptors\n",
    "%use kandy-echarts"
   ]
  },
  {
   "metadata": {},
   "cell_type": "code",
   "outputs": [],
   "execution_count": 2,
   "source": [
    "val df = dataFrameOf(\n",
    "    \"date\" to List(10) { LocalDate(2022, 1, it + 1) },\n",
    "    \"open\" to listOf(10.0, 15.0, 12.0, 18.0, 14.0, 16.0, 20.0, 22.0, 19.0, 25.0),\n",
    "    \"high\" to listOf(18.0, 17.0, 20.0, 22.0, 18.0, 22.0, 25.0, 24.0, 27.0, 28.0),\n",
    "    \"low\" to listOf(8.0, 10.0, 9.0, 11.0, 12.0, 15.0, 18.0, 17.0, 18.0, 22.0),\n",
    "    \"close\" to listOf(15.0, 12.0, 18.0, 14.0, 16.0, 20.0, 22.0, 19.0, 25.0, 23.0),\n",
    ")"
   ]
  },
  {
   "metadata": {
    "ExecuteTime": {
     "end_time": "2025-04-21T17:23:59.675599Z",
     "start_time": "2025-04-21T17:23:59.607919Z"
    }
   },
   "cell_type": "code",
   "source": [
    "df.plot {\n",
    "    candlestick {\n",
    "        x(date) { axis.name = \"Date\"; scale = categorical() }\n",
    "        y(open = open, close = close, low = low, high = high) { axis.name = \"Price, €\" }\n",
    "    }\n",
    "    layout { tooltip {  } }\n",
    "}"
   ],
   "outputs": [
    {
     "data": {
      "text/html": [
       "<script>require.config({paths: {'echarts':'https://cdn.jsdelivr.net/npm/echarts@5.6.0/dist/echarts.min'}});</script><div id=\"bd9d632d08f54ea59d024586d03cba16\" style=\"width:800px; height:600px;\"></div><script>                require(['echarts'], function (echarts) {\n",
       "                    var chart_bd9d632d08f54ea59d024586d03cba16 = echarts.init(document.getElementById('bd9d632d08f54ea59d024586d03cba16'), {renderer: 'canvas'});\n",
       "var option_bd9d632d08f54ea59d024586d03cba16 = {\"xAxis\":{\"type\":\"category\",\"name\":\"Date\"},\"yAxis\":{\"type\":\"value\",\"name\":\"Price, €\"},\"tooltip\":{},\"dataset\":{\"source\":[[\"date\",\"open\",\"close\",\"low\",\"high\"],[\"2022-01-01\",10.0,15.0,8.0,18.0],[\"2022-01-02\",15.0,12.0,10.0,17.0],[\"2022-01-03\",12.0,18.0,9.0,20.0],[\"2022-01-04\",18.0,14.0,11.0,22.0],[\"2022-01-05\",14.0,16.0,12.0,18.0],[\"2022-01-06\",16.0,20.0,15.0,22.0],[\"2022-01-07\",20.0,22.0,18.0,25.0],[\"2022-01-08\",22.0,19.0,17.0,24.0],[\"2022-01-09\",19.0,25.0,18.0,27.0],[\"2022-01-10\",25.0,23.0,22.0,28.0]]},\"series\":[{\"type\":\"candlestick\",\"name\":\"date open close low high\",\"encode\":{\"x\":\"date\",\"y\":[\"open\",\"close\",\"low\",\"high\"]}}]};\n",
       "chart_bd9d632d08f54ea59d024586d03cba16.setOption(option_bd9d632d08f54ea59d024586d03cba16);\n",
       "                });</script>"
      ]
     },
     "execution_count": 8,
     "metadata": {
      "text/html": {
       "isolated": true
      }
     },
     "output_type": "execute_result"
    }
   ],
   "execution_count": 8
  }
 ],
 "metadata": {
  "kernelspec": {
   "display_name": "Kotlin",
   "language": "kotlin",
   "name": "kotlin"
  },
  "language_info": {
   "name": "kotlin",
   "version": "1.9.23",
   "mimetype": "text/x-kotlin",
   "file_extension": ".kt",
   "pygments_lexer": "kotlin",
   "codemirror_mode": "text/x-kotlin",
   "nbconvert_exporter": ""
  },
  "ktnbPluginMetadata": {
   "projectDependencies": [
    "kandy.kandy-echarts.main"
   ],
   "projectLibraries": false
  }
 },
 "nbformat": 4,
 "nbformat_minor": 0
}
