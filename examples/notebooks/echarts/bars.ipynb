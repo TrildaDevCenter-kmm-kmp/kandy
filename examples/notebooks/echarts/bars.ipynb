{
 "cells": [
  {
   "cell_type": "code",
   "id": "cad1f5a6",
   "metadata": {
    "ExecuteTime": {
     "end_time": "2025-04-21T17:27:22.831377Z",
     "start_time": "2025-04-21T17:27:22.817498Z"
    }
   },
   "source": [
    "%useLatestDescriptors\n",
    "%use kandy-echarts"
   ],
   "outputs": [],
   "execution_count": 1
  },
  {
   "cell_type": "markdown",
   "id": "cb65a807",
   "metadata": {},
   "source": [
    "## Basic Bar chart"
   ]
  },
  {
   "cell_type": "code",
   "id": "26d9c83d",
   "metadata": {
    "ExecuteTime": {
     "end_time": "2025-04-21T17:27:23.078340Z",
     "start_time": "2025-04-21T17:27:22.838376Z"
    }
   },
   "source": [
    "val df = dataFrameOf(\n",
    "    \"company\" to listOf(\"V\", \"MSFT\", \"MCD\", \"BABA\", \"LVMH\", \"AMZN\", \"GOOG\", \"TCEHY\", \"AAPL\", \"META\"),\n",
    "    \"value\" to listOf(191, 611, 196, 169, 124, 705, 819, 214, 947, 186)\n",
    ")"
   ],
   "outputs": [],
   "execution_count": 2
  },
  {
   "cell_type": "code",
   "id": "4a57bc07",
   "metadata": {
    "ExecuteTime": {
     "end_time": "2025-04-21T17:27:23.220742Z",
     "start_time": "2025-04-21T17:27:23.081475Z"
    }
   },
   "source": [
    "df.plot { \n",
    "    layout { \n",
    "        title.text = \"Brand value\"\n",
    "    }\n",
    "    x(company)\n",
    "    y(value)\n",
    "    bars {}\n",
    "}"
   ],
   "outputs": [
    {
     "data": {
      "text/html": [
       "<script>require.config({paths: {'echarts':'https://cdn.jsdelivr.net/npm/echarts@5.6.0/dist/echarts.min'}});</script><div id=\"ff98d9b1b15a4dc9a0dc0f018f00c275\" style=\"width:800px; height:600px;\"></div><script>                require(['echarts'], function (echarts) {\n",
       "                    var chart_ff98d9b1b15a4dc9a0dc0f018f00c275 = echarts.init(document.getElementById('ff98d9b1b15a4dc9a0dc0f018f00c275'), {renderer: 'canvas'});\n",
       "var option_ff98d9b1b15a4dc9a0dc0f018f00c275 = {\"title\":{\"text\":\"Brand value\"},\"xAxis\":{\"type\":\"category\"},\"yAxis\":{\"type\":\"value\"},\"dataset\":{\"source\":[[\"company\",\"value\"],[\"V\",191],[\"MSFT\",611],[\"MCD\",196],[\"BABA\",169],[\"LVMH\",124],[\"AMZN\",705],[\"GOOG\",819],[\"TCEHY\",214],[\"AAPL\",947],[\"META\",186]]},\"series\":[{\"type\":\"bar\",\"name\":\"company value\",\"encode\":{\"x\":\"company\",\"y\":[\"value\"]}}]};\n",
       "chart_ff98d9b1b15a4dc9a0dc0f018f00c275.setOption(option_ff98d9b1b15a4dc9a0dc0f018f00c275);\n",
       "                });</script>"
      ]
     },
     "execution_count": 3,
     "metadata": {
      "text/html": {
       "isolated": true
      }
     },
     "output_type": "execute_result"
    }
   ],
   "execution_count": 3
  },
  {
   "cell_type": "markdown",
   "id": "febe6ea8",
   "metadata": {},
   "source": [
    "## Bar with Background"
   ]
  },
  {
   "cell_type": "code",
   "id": "5aed0256",
   "metadata": {
    "ExecuteTime": {
     "end_time": "2025-04-21T17:27:23.341399Z",
     "start_time": "2025-04-21T17:27:23.247954Z"
    }
   },
   "source": [
    "df.plot { \n",
    "    layout { \n",
    "        title.text = \"Brand value\"\n",
    "    }\n",
    "    x(company)\n",
    "    y(value)\n",
    "    bars { \n",
    "        background {\n",
    "            color = Color.GREY\n",
    "            alpha = 0.2\n",
    "        }\n",
    "    }\n",
    "}"
   ],
   "outputs": [
    {
     "data": {
      "text/html": [
       "<script>require.config({paths: {'echarts':'https://cdn.jsdelivr.net/npm/echarts@5.6.0/dist/echarts.min'}});</script><div id=\"e418f16fcb5f45a5a05043dfee0db2c4\" style=\"width:800px; height:600px;\"></div><script>                require(['echarts'], function (echarts) {\n",
       "                    var chart_e418f16fcb5f45a5a05043dfee0db2c4 = echarts.init(document.getElementById('e418f16fcb5f45a5a05043dfee0db2c4'), {renderer: 'canvas'});\n",
       "var option_e418f16fcb5f45a5a05043dfee0db2c4 = {\"title\":{\"text\":\"Brand value\"},\"xAxis\":{\"type\":\"category\"},\"yAxis\":{\"type\":\"value\"},\"dataset\":{\"source\":[[\"company\",\"value\"],[\"V\",191],[\"MSFT\",611],[\"MCD\",196],[\"BABA\",169],[\"LVMH\",124],[\"AMZN\",705],[\"GOOG\",819],[\"TCEHY\",214],[\"AAPL\",947],[\"META\",186]]},\"series\":[{\"type\":\"bar\",\"name\":\"company value\",\"showBackground\":true,\"backgroundStyle\":{\"color\":\"#a39999\",\"opacity\":0.2},\"encode\":{\"x\":\"company\",\"y\":[\"value\"]}}]};\n",
       "chart_e418f16fcb5f45a5a05043dfee0db2c4.setOption(option_e418f16fcb5f45a5a05043dfee0db2c4);\n",
       "                });</script>"
      ]
     },
     "execution_count": 4,
     "metadata": {
      "text/html": {
       "isolated": true
      }
     },
     "output_type": "execute_result"
    }
   ],
   "execution_count": 4
  },
  {
   "cell_type": "markdown",
   "id": "3a7fb081",
   "metadata": {},
   "source": [
    "## Bar with labels"
   ]
  },
  {
   "cell_type": "code",
   "id": "3978d183",
   "metadata": {
    "ExecuteTime": {
     "end_time": "2025-04-21T17:27:23.425679Z",
     "start_time": "2025-04-21T17:27:23.347833Z"
    }
   },
   "source": [
    "df.plot { \n",
    "    layout { \n",
    "        title.text = \"Brand value\"\n",
    "    }\n",
    "    x(company)\n",
    "    y(value)\n",
    "    bars { \n",
    "        label { \n",
    "            position = LabelPosition.TOP\n",
    "            formatter = \"{c}\"\n",
    "        }\n",
    "        background {\n",
    "            color = Color.GREY\n",
    "            alpha = 0.2\n",
    "        }\n",
    "    }\n",
    "}"
   ],
   "outputs": [
    {
     "data": {
      "text/html": [
       "<script>require.config({paths: {'echarts':'https://cdn.jsdelivr.net/npm/echarts@5.6.0/dist/echarts.min'}});</script><div id=\"e003123e6d9a4839ae39974119c8a556\" style=\"width:800px; height:600px;\"></div><script>                require(['echarts'], function (echarts) {\n",
       "                    var chart_e003123e6d9a4839ae39974119c8a556 = echarts.init(document.getElementById('e003123e6d9a4839ae39974119c8a556'), {renderer: 'canvas'});\n",
       "var option_e003123e6d9a4839ae39974119c8a556 = {\"title\":{\"text\":\"Brand value\"},\"xAxis\":{\"type\":\"category\"},\"yAxis\":{\"type\":\"value\"},\"dataset\":{\"source\":[[\"company\",\"value\"],[\"V\",191],[\"MSFT\",611],[\"MCD\",196],[\"BABA\",169],[\"LVMH\",124],[\"AMZN\",705],[\"GOOG\",819],[\"TCEHY\",214],[\"AAPL\",947],[\"META\",186]]},\"series\":[{\"type\":\"bar\",\"name\":\"company value\",\"showBackground\":true,\"backgroundStyle\":{\"color\":\"#a39999\",\"opacity\":0.2},\"label\":{\"show\":true,\"position\":\"top\",\"formatter\":\"{c}\"},\"encode\":{\"x\":\"company\",\"y\":[\"value\"]}}]};\n",
       "chart_e003123e6d9a4839ae39974119c8a556.setOption(option_e003123e6d9a4839ae39974119c8a556);\n",
       "                });</script>"
      ]
     },
     "execution_count": 5,
     "metadata": {
      "text/html": {
       "isolated": true
      }
     },
     "output_type": "execute_result"
    }
   ],
   "execution_count": 5
  },
  {
   "cell_type": "markdown",
   "id": "a78b39e6",
   "metadata": {},
   "source": [
    "## Stacked Bars"
   ]
  },
  {
   "cell_type": "code",
   "id": "599b7188",
   "metadata": {
    "ExecuteTime": {
     "end_time": "2025-04-21T17:27:23.640135Z",
     "start_time": "2025-04-21T17:27:23.428631Z"
    }
   },
   "source": [
    "val df = dataFrameOf(\n",
    "    \"days\" to listOf(\"Mon\", \"Tue\", \"Wed\", \"Thu\", \"Fri\", \"Sat\", \"Sun\"),\n",
    "    \"Email\" to listOf(120, 132, 101, 134, 90, 230, 210),\n",
    "    \"Union ads\" to listOf(220, 182, 191, 234, 290, 330, 310),\n",
    "    \"Video ads\" to listOf(150, 232, 201, 154, 190, 330, 410),\n",
    "    \"Direct\" to listOf(320, 332, 301, 334, 390, 330, 320),\n",
    "    \"Search Engine\" to listOf(862, 1018, 964, 1026, 1679, 1600, 1570),\n",
    "    \"Google search\" to listOf(120, 132, 101, 134, 290, 230, 220),\n",
    "    \"Baidu search\" to listOf(620, 732, 701, 734, 1090, 1130, 1120),\n",
    "    \"Bing search\" to listOf(60, 72, 71, 74, 190, 130, 110),\n",
    "    \"Others search\" to listOf(62, 82, 91, 84, 109, 110, 120)\n",
    ")"
   ],
   "outputs": [],
   "execution_count": 6
  },
  {
   "cell_type": "code",
   "id": "fb3fd562",
   "metadata": {
    "ExecuteTime": {
     "end_time": "2025-04-21T17:27:23.854618Z",
     "start_time": "2025-04-21T17:27:23.650039Z"
    }
   },
   "source": [
    "df.plot { \n",
    "    layout {\n",
    "        tooltip { trigger = Trigger.AXIS }\n",
    "        legend {}\n",
    "    }\n",
    "\n",
    "    x(days)\n",
    "\n",
    "    columns { Email and `Union ads` and `Video ads`}.forEach { \n",
    "        bars {\n",
    "            name = it.name\n",
    "            y(it)\n",
    "            stack = stack(\"ad\")\n",
    "        }\n",
    "    }\n",
    "\n",
    "    columns { Direct and `Search Engine` }.forEach {\n",
    "        bars {\n",
    "            name = it.name  \n",
    "            y(it)\n",
    "        }\n",
    "    }\n",
    "\n",
    "    columns { `Baidu search` and `Google search` and `Bing search` and `Others search` }.forEach {\n",
    "        bars {\n",
    "            name = it.name.split(' ').firstOrNull()\n",
    "            y(it)\n",
    "            stack = stack(\"search\")\n",
    "        }\n",
    "    }\n",
    "}"
   ],
   "outputs": [
    {
     "data": {
      "text/html": [
       "<script>require.config({paths: {'echarts':'https://cdn.jsdelivr.net/npm/echarts@5.6.0/dist/echarts.min'}});</script><div id=\"9928bd7b6c8f4e36afdb3e9891c0f84b\" style=\"width:800px; height:600px;\"></div><script>                require(['echarts'], function (echarts) {\n",
       "                    var chart_9928bd7b6c8f4e36afdb3e9891c0f84b = echarts.init(document.getElementById('9928bd7b6c8f4e36afdb3e9891c0f84b'), {renderer: 'canvas'});\n",
       "var option_9928bd7b6c8f4e36afdb3e9891c0f84b = {\"legend\":{},\"xAxis\":{\"type\":\"category\"},\"yAxis\":{\"type\":\"value\"},\"tooltip\":{\"trigger\":\"axis\"},\"dataset\":{\"source\":[[\"days\",\"Email\",\"Union ads\",\"Video ads\",\"Direct\",\"Search Engine\",\"Baidu search\",\"Google search\",\"Bing search\",\"Others search\"],[\"Mon\",120,220,150,320,862,620,120,60,62],[\"Tue\",132,182,232,332,1018,732,132,72,82],[\"Wed\",101,191,201,301,964,701,101,71,91],[\"Thu\",134,234,154,334,1026,734,134,74,84],[\"Fri\",90,290,190,390,1679,1090,290,190,109],[\"Sat\",230,330,330,330,1600,1130,230,130,110],[\"Sun\",210,310,410,320,1570,1120,220,110,120]]},\"series\":[{\"type\":\"bar\",\"name\":\"Email\",\"stack\":\"ad\",\"encode\":{\"x\":\"days\",\"y\":[\"Email\"]}},{\"type\":\"bar\",\"name\":\"Union ads\",\"stack\":\"ad\",\"encode\":{\"x\":\"days\",\"y\":[\"Union ads\"]}},{\"type\":\"bar\",\"name\":\"Video ads\",\"stack\":\"ad\",\"encode\":{\"x\":\"days\",\"y\":[\"Video ads\"]}},{\"type\":\"bar\",\"name\":\"Direct\",\"encode\":{\"x\":\"days\",\"y\":[\"Direct\"]}},{\"type\":\"bar\",\"name\":\"Search Engine\",\"encode\":{\"x\":\"days\",\"y\":[\"Search Engine\"]}},{\"type\":\"bar\",\"name\":\"Baidu\",\"stack\":\"search\",\"encode\":{\"x\":\"days\",\"y\":[\"Baidu search\"]}},{\"type\":\"bar\",\"name\":\"Google\",\"stack\":\"search\",\"encode\":{\"x\":\"days\",\"y\":[\"Google search\"]}},{\"type\":\"bar\",\"name\":\"Bing\",\"stack\":\"search\",\"encode\":{\"x\":\"days\",\"y\":[\"Bing search\"]}},{\"type\":\"bar\",\"name\":\"Others\",\"stack\":\"search\",\"encode\":{\"x\":\"days\",\"y\":[\"Others search\"]}}]};\n",
       "chart_9928bd7b6c8f4e36afdb3e9891c0f84b.setOption(option_9928bd7b6c8f4e36afdb3e9891c0f84b);\n",
       "                });</script>"
      ]
     },
     "execution_count": 7,
     "metadata": {
      "text/html": {
       "isolated": true
      }
     },
     "output_type": "execute_result"
    }
   ],
   "execution_count": 7
  },
  {
   "metadata": {
    "ExecuteTime": {
     "end_time": "2025-04-21T17:27:23.859197Z",
     "start_time": "2025-04-21T17:27:23.857988Z"
    }
   },
   "cell_type": "code",
   "source": "",
   "id": "9b1814cf231e7cc9",
   "outputs": [],
   "execution_count": null
  }
 ],
 "metadata": {
  "kernelspec": {
   "display_name": "Kotlin",
   "language": "kotlin",
   "name": "kotlin"
  },
  "language_info": {
   "codemirror_mode": "text/x-kotlin",
   "file_extension": ".kt",
   "mimetype": "text/x-kotlin",
   "name": "kotlin",
   "nbconvert_exporter": "",
   "pygments_lexer": "kotlin",
   "version": "1.8.20-Beta"
  },
  "ktnbPluginMetadata": {
   "projectLibraries": false,
   "projectDependencies": [
    "kandy.kandy-echarts.main"
   ]
  }
 },
 "nbformat": 4,
 "nbformat_minor": 5
}
