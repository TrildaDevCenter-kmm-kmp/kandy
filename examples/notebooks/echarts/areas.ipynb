{
 "cells": [
  {
   "cell_type": "code",
   "id": "984fb245",
   "metadata": {
    "ExecuteTime": {
     "end_time": "2025-04-21T17:27:14.726345Z",
     "start_time": "2025-04-21T17:27:14.713854Z"
    }
   },
   "source": [
    "%useLatestDescriptors\n",
    "%use kandy-echarts"
   ],
   "outputs": [],
   "execution_count": 1
  },
  {
   "cell_type": "markdown",
   "id": "98c65d2e",
   "metadata": {},
   "source": [
    "## Basic area chart"
   ]
  },
  {
   "cell_type": "code",
   "id": "175a7307",
   "metadata": {
    "ExecuteTime": {
     "end_time": "2025-04-21T17:27:14.983874Z",
     "start_time": "2025-04-21T17:27:14.745609Z"
    }
   },
   "source": [
    "val df = dataFrameOf(\n",
    "        \"month\" to listOf(\"Jan\", \"Feb\", \"Mar\", \"Apr\", \"May\", \"Jun\", \"Jul\", \"Aug\", \"Sep\", \"Oct\", \"Nov\", \"Dec\"),\n",
    "        \"temp\" to listOf(-2, -1, 1, 5, 14, 22, 24, 24, 15, 6, 3, 0)\n",
    "    )"
   ],
   "outputs": [],
   "execution_count": 2
  },
  {
   "cell_type": "code",
   "id": "6375ff98",
   "metadata": {
    "ExecuteTime": {
     "end_time": "2025-04-21T17:27:15.122566Z",
     "start_time": "2025-04-21T17:27:14.986980Z"
    }
   },
   "source": [
    "df.plot {  \n",
    "    x(month)\n",
    "    area {\n",
    "        y(temp)\n",
    "    }\n",
    "}"
   ],
   "outputs": [
    {
     "data": {
      "text/html": [
       "<script>require.config({paths: {'echarts':'https://cdn.jsdelivr.net/npm/echarts@5.6.0/dist/echarts.min'}});</script><div id=\"6700e45d506447159c224f32763ed5e8\" style=\"width:800px; height:600px;\"></div><script>                require(['echarts'], function (echarts) {\n",
       "                    var chart_6700e45d506447159c224f32763ed5e8 = echarts.init(document.getElementById('6700e45d506447159c224f32763ed5e8'), {renderer: 'canvas'});\n",
       "var option_6700e45d506447159c224f32763ed5e8 = {\"xAxis\":{\"type\":\"category\"},\"yAxis\":{\"type\":\"value\"},\"dataset\":{\"source\":[[\"month\",\"temp\"],[\"Jan\",-2],[\"Feb\",-1],[\"Mar\",1],[\"Apr\",5],[\"May\",14],[\"Jun\",22],[\"Jul\",24],[\"Aug\",24],[\"Sep\",15],[\"Oct\",6],[\"Nov\",3],[\"Dec\",0]]},\"series\":[{\"type\":\"line\",\"name\":\"month temp\",\"showSymbol\":false,\"areaStyle\":{},\"encode\":{\"x\":\"month\",\"y\":[\"temp\"]}}]};\n",
       "chart_6700e45d506447159c224f32763ed5e8.setOption(option_6700e45d506447159c224f32763ed5e8);\n",
       "                });</script>"
      ]
     },
     "execution_count": 3,
     "metadata": {
      "text/html": {
       "isolated": true
      }
     },
     "output_type": "execute_result"
    }
   ],
   "execution_count": 3
  },
  {
   "cell_type": "markdown",
   "id": "16ec6eef",
   "metadata": {},
   "source": [
    "## Chart with smothed line"
   ]
  },
  {
   "cell_type": "code",
   "id": "e01849f9",
   "metadata": {
    "ExecuteTime": {
     "end_time": "2025-04-21T17:27:15.175271Z",
     "start_time": "2025-04-21T17:27:15.126820Z"
    }
   },
   "source": [
    "df.plot {  \n",
    "    x(month)\n",
    "    area {\n",
    "        y(temp)\n",
    "        smooth = true\n",
    "    }\n",
    "}"
   ],
   "outputs": [
    {
     "data": {
      "text/html": [
       "<script>require.config({paths: {'echarts':'https://cdn.jsdelivr.net/npm/echarts@5.6.0/dist/echarts.min'}});</script><div id=\"212a79d84eea47aba1686306c9059bdd\" style=\"width:800px; height:600px;\"></div><script>                require(['echarts'], function (echarts) {\n",
       "                    var chart_212a79d84eea47aba1686306c9059bdd = echarts.init(document.getElementById('212a79d84eea47aba1686306c9059bdd'), {renderer: 'canvas'});\n",
       "var option_212a79d84eea47aba1686306c9059bdd = {\"xAxis\":{\"type\":\"category\"},\"yAxis\":{\"type\":\"value\"},\"dataset\":{\"source\":[[\"month\",\"temp\"],[\"Jan\",-2],[\"Feb\",-1],[\"Mar\",1],[\"Apr\",5],[\"May\",14],[\"Jun\",22],[\"Jul\",24],[\"Aug\",24],[\"Sep\",15],[\"Oct\",6],[\"Nov\",3],[\"Dec\",0]]},\"series\":[{\"type\":\"line\",\"name\":\"month temp\",\"showSymbol\":false,\"areaStyle\":{},\"smooth\":true,\"encode\":{\"x\":\"month\",\"y\":[\"temp\"]}}]};\n",
       "chart_212a79d84eea47aba1686306c9059bdd.setOption(option_212a79d84eea47aba1686306c9059bdd);\n",
       "                });</script>"
      ]
     },
     "execution_count": 4,
     "metadata": {
      "text/html": {
       "isolated": true
      }
     },
     "output_type": "execute_result"
    }
   ],
   "execution_count": 4
  },
  {
   "cell_type": "markdown",
   "id": "9801dc6b",
   "metadata": {},
   "source": [
    "### Customize area"
   ]
  },
  {
   "cell_type": "code",
   "id": "3ba89c45",
   "metadata": {
    "ExecuteTime": {
     "end_time": "2025-04-21T17:27:15.296240Z",
     "start_time": "2025-04-21T17:27:15.204152Z"
    }
   },
   "source": [
    "df.plot {  \n",
    "    x(month)\n",
    "    area {\n",
    "        y(temp)\n",
    "        smooth = true\n",
    "        lineWidth = .0\n",
    "        color = LinearGradient(Color.rgb(128, 255, 165) to Color.rgb(1, 191, 236))\n",
    "        alpha = .8\n",
    "    }\n",
    "}"
   ],
   "outputs": [
    {
     "data": {
      "text/html": [
       "<script>require.config({paths: {'echarts':'https://cdn.jsdelivr.net/npm/echarts@5.6.0/dist/echarts.min'}});</script><div id=\"6162fd778eb747d89abefc2383747909\" style=\"width:800px; height:600px;\"></div><script>                require(['echarts'], function (echarts) {\n",
       "                    var chart_6162fd778eb747d89abefc2383747909 = echarts.init(document.getElementById('6162fd778eb747d89abefc2383747909'), {renderer: 'canvas'});\n",
       "var option_6162fd778eb747d89abefc2383747909 = {\"xAxis\":{\"type\":\"category\"},\"yAxis\":{\"type\":\"value\"},\"dataset\":{\"source\":[[\"month\",\"temp\"],[\"Jan\",-2],[\"Feb\",-1],[\"Mar\",1],[\"Apr\",5],[\"May\",14],[\"Jun\",22],[\"Jul\",24],[\"Aug\",24],[\"Sep\",15],[\"Oct\",6],[\"Nov\",3],[\"Dec\",0]]},\"series\":[{\"type\":\"line\",\"name\":\"month temp\",\"showSymbol\":false,\"itemStyle\":{\"color\":{\"type\":\"linear\",\"colorStops\":[{\"offset\":0.0,\"color\":\"rgb(128, 255, 165)\"},{\"offset\":1.0,\"color\":\"rgb(1, 191, 236)\"}]},\"opacity\":0.8},\"lineStyle\":{\"width\":0.0,\"opacity\":0.8},\"areaStyle\":{},\"smooth\":true,\"encode\":{\"x\":\"month\",\"y\":[\"temp\"]}}]};\n",
       "chart_6162fd778eb747d89abefc2383747909.setOption(option_6162fd778eb747d89abefc2383747909);\n",
       "                });</script>"
      ]
     },
     "execution_count": 5,
     "metadata": {
      "text/html": {
       "isolated": true
      }
     },
     "output_type": "execute_result"
    }
   ],
   "execution_count": 5
  },
  {
   "cell_type": "markdown",
   "id": "31c5626f",
   "metadata": {},
   "source": [
    "## Stacked area"
   ]
  },
  {
   "cell_type": "code",
   "id": "c20095f2",
   "metadata": {
    "ExecuteTime": {
     "end_time": "2025-04-21T17:27:15.430224Z",
     "start_time": "2025-04-21T17:27:15.299660Z"
    }
   },
   "source": [
    "val df = dataFrameOf(\n",
    "    \"year\" to listOf(\"2015\", \"2016\", \"2017\", \"2018\", \"2019\", \"2020\", \"2021\"),\n",
    "    \"apple\" to listOf(233, 215, 229, 265, 260, 274, 365),\n",
    "    \"google\" to listOf(74, 89, 110, 136, 160, 181, 256),\n",
    "    \"microsoft\" to listOf(93, 85, 89, 110, 125, 143, 168)\n",
    "    )"
   ],
   "outputs": [],
   "execution_count": 6
  },
  {
   "cell_type": "code",
   "id": "2528cef7",
   "metadata": {
    "ExecuteTime": {
     "end_time": "2025-04-21T17:27:15.570055Z",
     "start_time": "2025-04-21T17:27:15.433286Z"
    }
   },
   "source": [
    "df.plot { \n",
    "    layout { \n",
    "        title.text = \"Revenue comparison\"\n",
    "        tooltip { trigger = Trigger.AXIS }\n",
    "    }\n",
    "    x(year)\n",
    "    val comp = stack(\"company\")\n",
    "    columns { apple and google and microsoft }.forEach {\n",
    "        area { \n",
    "            name = \"${it.name()} revenue\"\n",
    "            y(it)\n",
    "            smooth = true\n",
    "            stack = comp\n",
    "        }\n",
    "    }\n",
    "}"
   ],
   "outputs": [
    {
     "data": {
      "text/html": [
       "<script>require.config({paths: {'echarts':'https://cdn.jsdelivr.net/npm/echarts@5.6.0/dist/echarts.min'}});</script><div id=\"69db9ed4dd1b4cfeb068bea8c4663a9f\" style=\"width:800px; height:600px;\"></div><script>                require(['echarts'], function (echarts) {\n",
       "                    var chart_69db9ed4dd1b4cfeb068bea8c4663a9f = echarts.init(document.getElementById('69db9ed4dd1b4cfeb068bea8c4663a9f'), {renderer: 'canvas'});\n",
       "var option_69db9ed4dd1b4cfeb068bea8c4663a9f = {\"title\":{\"text\":\"Revenue comparison\"},\"xAxis\":{\"type\":\"category\"},\"yAxis\":{\"type\":\"value\"},\"tooltip\":{\"trigger\":\"axis\"},\"dataset\":{\"source\":[[\"year\",\"apple\",\"google\",\"microsoft\"],[\"2015\",233,74,93],[\"2016\",215,89,85],[\"2017\",229,110,89],[\"2018\",265,136,110],[\"2019\",260,160,125],[\"2020\",274,181,143],[\"2021\",365,256,168]]},\"series\":[{\"type\":\"line\",\"name\":\"apple revenue\",\"showSymbol\":false,\"stack\":\"company\",\"areaStyle\":{},\"smooth\":true,\"encode\":{\"x\":\"year\",\"y\":[\"apple\"]}},{\"type\":\"line\",\"name\":\"google revenue\",\"showSymbol\":false,\"stack\":\"company\",\"areaStyle\":{},\"smooth\":true,\"encode\":{\"x\":\"year\",\"y\":[\"google\"]}},{\"type\":\"line\",\"name\":\"microsoft revenue\",\"showSymbol\":false,\"stack\":\"company\",\"areaStyle\":{},\"smooth\":true,\"encode\":{\"x\":\"year\",\"y\":[\"microsoft\"]}}]};\n",
       "chart_69db9ed4dd1b4cfeb068bea8c4663a9f.setOption(option_69db9ed4dd1b4cfeb068bea8c4663a9f);\n",
       "                });</script>"
      ]
     },
     "execution_count": 7,
     "metadata": {
      "text/html": {
       "isolated": true
      }
     },
     "output_type": "execute_result"
    }
   ],
   "execution_count": 7
  },
  {
   "cell_type": "markdown",
   "id": "f656a3a1",
   "metadata": {},
   "source": [
    "## Gradient Stacked Area"
   ]
  },
  {
   "cell_type": "code",
   "id": "5500eff4",
   "metadata": {
    "scrolled": false,
    "ExecuteTime": {
     "end_time": "2025-04-21T17:27:15.727152Z",
     "start_time": "2025-04-21T17:27:15.584605Z"
    }
   },
   "source": [
    "df.plot { \n",
    "    layout { \n",
    "        title.text = \"Revenue comparison\"\n",
    "        tooltip { trigger = Trigger.AXIS }\n",
    "        legend {}\n",
    "        grid {\n",
    "            left = 3.pct\n",
    "            right = 4.pct\n",
    "            bottom = 3.pct\n",
    "        }\n",
    "    }\n",
    "    x(year)\n",
    "    val comp = stack(\"company\")\n",
    "\n",
    "    fun createArea(col: DataColumn<Int>, inColor: Pair<Color, Color>) {\n",
    "        area { \n",
    "            name = \"${col.name()} revenue\"\n",
    "            y(col)\n",
    "            smooth = true\n",
    "            stack = comp\n",
    "            color = LinearGradient(inColor)\n",
    "            alpha = .8\n",
    "            lineWidth = .0\n",
    "        }\n",
    "    }\n",
    "\n",
    "    createArea(apple, Color.rgb(255, 191, 0) to Color.rgb(224, 62, 76))\n",
    "    createArea(google, Color.rgb(255, 0, 135) to Color.rgb(135, 0, 157))\n",
    "    createArea(microsoft, Color.rgb(128, 255, 165) to Color.rgb(1, 191, 236))\n",
    "}"
   ],
   "outputs": [
    {
     "data": {
      "text/html": [
       "<script>require.config({paths: {'echarts':'https://cdn.jsdelivr.net/npm/echarts@5.6.0/dist/echarts.min'}});</script><div id=\"c080c114b9fb4c75b6d33f521f8405bc\" style=\"width:800px; height:600px;\"></div><script>                require(['echarts'], function (echarts) {\n",
       "                    var chart_c080c114b9fb4c75b6d33f521f8405bc = echarts.init(document.getElementById('c080c114b9fb4c75b6d33f521f8405bc'), {renderer: 'canvas'});\n",
       "var option_c080c114b9fb4c75b6d33f521f8405bc = {\"title\":{\"text\":\"Revenue comparison\"},\"legend\":{},\"grid\":{\"left\":\"3%\",\"right\":\"4%\",\"bottom\":\"3%\"},\"xAxis\":{\"type\":\"category\"},\"yAxis\":{\"type\":\"value\"},\"tooltip\":{\"trigger\":\"axis\"},\"dataset\":{\"source\":[[\"year\",\"apple\",\"google\",\"microsoft\"],[\"2015\",233,74,93],[\"2016\",215,89,85],[\"2017\",229,110,89],[\"2018\",265,136,110],[\"2019\",260,160,125],[\"2020\",274,181,143],[\"2021\",365,256,168]]},\"series\":[{\"type\":\"line\",\"name\":\"apple revenue\",\"showSymbol\":false,\"stack\":\"company\",\"itemStyle\":{\"color\":{\"type\":\"linear\",\"colorStops\":[{\"offset\":0.0,\"color\":\"rgb(255, 191, 0)\"},{\"offset\":1.0,\"color\":\"rgb(224, 62, 76)\"}]},\"opacity\":0.8},\"lineStyle\":{\"width\":0.0,\"opacity\":0.8},\"areaStyle\":{},\"smooth\":true,\"encode\":{\"x\":\"year\",\"y\":[\"apple\"]}},{\"type\":\"line\",\"name\":\"google revenue\",\"showSymbol\":false,\"stack\":\"company\",\"itemStyle\":{\"color\":{\"type\":\"linear\",\"colorStops\":[{\"offset\":0.0,\"color\":\"rgb(255, 0, 135)\"},{\"offset\":1.0,\"color\":\"rgb(135, 0, 157)\"}]},\"opacity\":0.8},\"lineStyle\":{\"width\":0.0,\"opacity\":0.8},\"areaStyle\":{},\"smooth\":true,\"encode\":{\"x\":\"year\",\"y\":[\"google\"]}},{\"type\":\"line\",\"name\":\"microsoft revenue\",\"showSymbol\":false,\"stack\":\"company\",\"itemStyle\":{\"color\":{\"type\":\"linear\",\"colorStops\":[{\"offset\":0.0,\"color\":\"rgb(128, 255, 165)\"},{\"offset\":1.0,\"color\":\"rgb(1, 191, 236)\"}]},\"opacity\":0.8},\"lineStyle\":{\"width\":0.0,\"opacity\":0.8},\"areaStyle\":{},\"smooth\":true,\"encode\":{\"x\":\"year\",\"y\":[\"microsoft\"]}}]};\n",
       "chart_c080c114b9fb4c75b6d33f521f8405bc.setOption(option_c080c114b9fb4c75b6d33f521f8405bc);\n",
       "                });</script>"
      ]
     },
     "execution_count": 8,
     "metadata": {
      "text/html": {
       "isolated": true
      }
     },
     "output_type": "execute_result"
    }
   ],
   "execution_count": 8
  }
 ],
 "metadata": {
  "kernelspec": {
   "display_name": "Kotlin",
   "language": "kotlin",
   "name": "kotlin"
  },
  "language_info": {
   "codemirror_mode": "text/x-kotlin",
   "file_extension": ".kt",
   "mimetype": "text/x-kotlin",
   "name": "kotlin",
   "nbconvert_exporter": "",
   "pygments_lexer": "kotlin",
   "version": "1.8.20-Beta"
  },
  "ktnbPluginMetadata": {
   "projectDependencies": [
    "kandy.kandy-echarts.main"
   ],
   "projectLibraries": false
  }
 },
 "nbformat": 4,
 "nbformat_minor": 5
}
