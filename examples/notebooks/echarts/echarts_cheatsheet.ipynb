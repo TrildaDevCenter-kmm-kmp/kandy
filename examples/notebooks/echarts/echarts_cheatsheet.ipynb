{
 "cells": [
  {
   "cell_type": "markdown",
   "id": "f464a2ff",
   "metadata": {},
   "source": [
    "# Echarts cheatsheet"
   ]
  },
  {
   "cell_type": "markdown",
   "id": "8fc5d922",
   "metadata": {},
   "source": [
    "## What is kandy-echarts"
   ]
  },
  {
   "cell_type": "markdown",
   "id": "1f70522a",
   "metadata": {},
   "source": [
    "`kandy-echarts` is a wrapper around the [echarts library](https://echarts.apache.org/en/index.html). This library combines a clear, pure Kotlin API and elegant, beatiful charts from echarts."
   ]
  },
  {
   "cell_type": "markdown",
   "id": "dc540cf2",
   "metadata": {},
   "source": [
    "## Installation"
   ]
  },
  {
   "cell_type": "markdown",
   "id": "f06f96a6",
   "metadata": {},
   "source": [
    "To get started in jupyter notebook with `kandy-echarts` just use [line magic](https://github.com/Kotlin/kotlin-jupyter#line-magics):"
   ]
  },
  {
   "cell_type": "code",
   "id": "f70bf3db",
   "metadata": {
    "ExecuteTime": {
     "end_time": "2025-04-21T17:27:36.037643Z",
     "start_time": "2025-04-21T17:27:36.024995Z"
    }
   },
   "source": [
    "// use latest versions of library\n",
    "%useLatestDescriptors\n",
    "// kandy-echarts\n",
    "%use kandy-echarts"
   ],
   "outputs": [],
   "execution_count": 1
  },
  {
   "cell_type": "markdown",
   "id": "f5a785a8",
   "metadata": {},
   "source": [
    "## Data"
   ]
  },
  {
   "cell_type": "markdown",
   "id": "0f4a1876",
   "metadata": {},
   "source": [
    "`kandy` supports `Map` containing name as a key and list of elements as a value. Data requirements are matching list/column sizes and no `null` values."
   ]
  },
  {
   "cell_type": "code",
   "id": "a66f67a7",
   "metadata": {
    "ExecuteTime": {
     "end_time": "2025-04-21T17:27:36.107842Z",
     "start_time": "2025-04-21T17:27:36.040476Z"
    }
   },
   "source": [
    "val mapOfData = mapOf(\n",
    "    \"fruit\" to listOf(\"apple\", \"orange\", \"grape\"),\n",
    "    \"value\" to listOf(12, 23, 44)\n",
    "    )"
   ],
   "outputs": [],
   "execution_count": 2
  },
  {
   "cell_type": "markdown",
   "id": "f16fe053",
   "metadata": {},
   "source": [
    "To use the data, you need to create a typed pointer to the corresponding list with the same name as the key."
   ]
  },
  {
   "cell_type": "code",
   "id": "db9b5b1b",
   "metadata": {
    "ExecuteTime": {
     "end_time": "2025-04-21T17:27:36.148944Z",
     "start_time": "2025-04-21T17:27:36.110415Z"
    }
   },
   "source": [
    "val fruit = column<String>(\"fruit\")\n",
    "val value = column<Int>(\"value\")"
   ],
   "outputs": [],
   "execution_count": 3
  },
  {
   "cell_type": "markdown",
   "id": "36950127",
   "metadata": {},
   "source": [
    "`kandy` has [dataframe](https://kotlin.github.io/dataframe/overview.html) integration. Dataframe simplifies working with data and provides many operations on them.\n",
    "\n",
    "To use it wtire the following line magic:"
   ]
  },
  {
   "cell_type": "code",
   "id": "fa67c893",
   "metadata": {
    "ExecuteTime": {
     "end_time": "2025-04-21T17:27:36.350322Z",
     "start_time": "2025-04-21T17:27:36.160633Z"
    }
   },
   "source": [
    "val df = dataFrameOf(\n",
    "    \"fruitDF\" to listOf(\"apple\", \"orange\", \"grape\"),\n",
    "    \"valueDF\" to listOf(12, 23, 44)\n",
    "    )"
   ],
   "outputs": [],
   "execution_count": 4
  },
  {
   "cell_type": "markdown",
   "id": "877907f6",
   "metadata": {},
   "source": [
    "With a dataframe, there is no need to specifically create column references, since the dataframe provides us with type-safe access to columns using the column reference."
   ]
  },
  {
   "cell_type": "markdown",
   "id": "218f3022",
   "metadata": {},
   "source": [
    "## Plot creation"
   ]
  },
  {
   "cell_type": "markdown",
   "id": "d42e0f7f",
   "metadata": {},
   "source": [
    "To create a plot, use the `plot` function passing your data as an argument"
   ]
  },
  {
   "cell_type": "code",
   "id": "bf5d70b3",
   "metadata": {
    "ExecuteTime": {
     "end_time": "2025-04-21T17:27:36.488562Z",
     "start_time": "2025-04-21T17:27:36.353296Z"
    }
   },
   "source": [
    "plot(mapOfData){\n",
    "    x(fruit)\n",
    "    y(value)\n",
    "    line {}\n",
    "}"
   ],
   "outputs": [
    {
     "data": {
      "text/html": [
       "<script>require.config({paths: {'echarts':'https://cdn.jsdelivr.net/npm/echarts@5.6.0/dist/echarts.min'}});</script><div id=\"60422e12e5664133897b3a5c920422a5\" style=\"width:800px; height:600px;\"></div><script>                require(['echarts'], function (echarts) {\n",
       "                    var chart_60422e12e5664133897b3a5c920422a5 = echarts.init(document.getElementById('60422e12e5664133897b3a5c920422a5'), {renderer: 'canvas'});\n",
       "var option_60422e12e5664133897b3a5c920422a5 = {\"xAxis\":{\"type\":\"category\"},\"yAxis\":{\"type\":\"value\"},\"dataset\":{\"source\":[[\"fruit\",\"value\"],[\"apple\",12],[\"orange\",23],[\"grape\",44]]},\"series\":[{\"type\":\"line\",\"name\":\"fruit value\",\"showSymbol\":false,\"encode\":{\"x\":\"fruit\",\"y\":[\"value\"]}}]};\n",
       "chart_60422e12e5664133897b3a5c920422a5.setOption(option_60422e12e5664133897b3a5c920422a5);\n",
       "                });</script>"
      ]
     },
     "execution_count": 5,
     "metadata": {
      "text/html": {
       "isolated": true
      }
     },
     "output_type": "execute_result"
    }
   ],
   "execution_count": 5
  },
  {
   "cell_type": "markdown",
   "id": "60456fda",
   "metadata": {},
   "source": [
    "In the case of a dataframe, we need to call the `create` function on the data, this will allow us to use the columns of this dataframe. Then call the `plot` function inside the context."
   ]
  },
  {
   "metadata": {
    "ExecuteTime": {
     "end_time": "2025-04-21T17:27:36.526791Z",
     "start_time": "2025-04-21T17:27:36.522158Z"
    }
   },
   "cell_type": "code",
   "source": "",
   "id": "128c6e10dfa0f1f3",
   "outputs": [],
   "execution_count": null
  },
  {
   "cell_type": "code",
   "id": "05adf220",
   "metadata": {
    "ExecuteTime": {
     "end_time": "2025-04-21T17:27:36.618757Z",
     "start_time": "2025-04-21T17:27:36.567411Z"
    }
   },
   "source": [
    "df.plot { \n",
    "    x(fruitDF)\n",
    "    y(valueDF)\n",
    "    line {}\n",
    "}"
   ],
   "outputs": [
    {
     "data": {
      "text/html": [
       "<script>require.config({paths: {'echarts':'https://cdn.jsdelivr.net/npm/echarts@5.6.0/dist/echarts.min'}});</script><div id=\"b8acf405b1bc4082bd8b8cd2a742f8ee\" style=\"width:800px; height:600px;\"></div><script>                require(['echarts'], function (echarts) {\n",
       "                    var chart_b8acf405b1bc4082bd8b8cd2a742f8ee = echarts.init(document.getElementById('b8acf405b1bc4082bd8b8cd2a742f8ee'), {renderer: 'canvas'});\n",
       "var option_b8acf405b1bc4082bd8b8cd2a742f8ee = {\"xAxis\":{\"type\":\"category\"},\"yAxis\":{\"type\":\"value\"},\"dataset\":{\"source\":[[\"fruitDF\",\"valueDF\"],[\"apple\",12],[\"orange\",23],[\"grape\",44]]},\"series\":[{\"type\":\"line\",\"name\":\"fruitDF valueDF\",\"showSymbol\":false,\"encode\":{\"x\":\"fruitDF\",\"y\":[\"valueDF\"]}}]};\n",
       "chart_b8acf405b1bc4082bd8b8cd2a742f8ee.setOption(option_b8acf405b1bc4082bd8b8cd2a742f8ee);\n",
       "                });</script>"
      ]
     },
     "execution_count": 7,
     "metadata": {
      "text/html": {
       "isolated": true
      }
     },
     "output_type": "execute_result"
    }
   ],
   "execution_count": 7
  },
  {
   "cell_type": "markdown",
   "id": "0508ea7d",
   "metadata": {},
   "source": [
    "Otherwise, visualization of data from a `dataframe` and data from a `Map` do not differ."
   ]
  },
  {
   "cell_type": "markdown",
   "id": "8c00b8af",
   "metadata": {},
   "source": [
    "## Layers, aesthetics, mappings and scales"
   ]
  },
  {
   "cell_type": "markdown",
   "id": "9acce053",
   "metadata": {},
   "source": [
    "To add the layears themselves, use the appropriate functions inside `plot`. So to add a line layer there is the `line` function, for a point layer - `points` and others. There are x and y for mapping data on axes."
   ]
  },
  {
   "cell_type": "code",
   "id": "8055b2c4",
   "metadata": {
    "ExecuteTime": {
     "end_time": "2025-04-21T17:27:36.741995Z",
     "start_time": "2025-04-21T17:27:36.624081Z"
    }
   },
   "source": [
    "val df = dataFrameOf(\n",
    "    \"name\" to listOf(\"Alice\", \"Bob\", \"Charlie\", \"David\"),\n",
    "    \"age\" to listOf(17, 21, 15, 47),\n",
    "    \"height\" to listOf(165, 183, 172, 169)\n",
    "    )"
   ],
   "outputs": [],
   "execution_count": 8
  },
  {
   "cell_type": "code",
   "id": "40b001fc",
   "metadata": {
    "ExecuteTime": {
     "end_time": "2025-04-21T17:27:36.791377Z",
     "start_time": "2025-04-21T17:27:36.749186Z"
    }
   },
   "source": [
    "df.plot { \n",
    "    x(name)\n",
    "    line {\n",
    "        y(age)\n",
    "    }\n",
    "}"
   ],
   "outputs": [
    {
     "data": {
      "text/html": [
       "<script>require.config({paths: {'echarts':'https://cdn.jsdelivr.net/npm/echarts@5.6.0/dist/echarts.min'}});</script><div id=\"8b543e523d3341b1914e69a4210f2155\" style=\"width:800px; height:600px;\"></div><script>                require(['echarts'], function (echarts) {\n",
       "                    var chart_8b543e523d3341b1914e69a4210f2155 = echarts.init(document.getElementById('8b543e523d3341b1914e69a4210f2155'), {renderer: 'canvas'});\n",
       "var option_8b543e523d3341b1914e69a4210f2155 = {\"xAxis\":{\"type\":\"category\"},\"yAxis\":{\"type\":\"value\"},\"dataset\":{\"source\":[[\"name\",\"age\"],[\"Alice\",17],[\"Bob\",21],[\"Charlie\",15],[\"David\",47]]},\"series\":[{\"type\":\"line\",\"name\":\"name age\",\"showSymbol\":false,\"encode\":{\"x\":\"name\",\"y\":[\"age\"]}}]};\n",
       "chart_8b543e523d3341b1914e69a4210f2155.setOption(option_8b543e523d3341b1914e69a4210f2155);\n",
       "                });</script>"
      ]
     },
     "execution_count": 9,
     "metadata": {
      "text/html": {
       "isolated": true
      }
     },
     "output_type": "execute_result"
    }
   ],
   "execution_count": 9
  },
  {
   "cell_type": "code",
   "id": "35533773",
   "metadata": {
    "ExecuteTime": {
     "end_time": "2025-04-21T17:27:36.837830Z",
     "start_time": "2025-04-21T17:27:36.795062Z"
    }
   },
   "source": [
    "df.plot { \n",
    "    points { \n",
    "        x(age)\n",
    "        y(height)\n",
    "    }\n",
    "}"
   ],
   "outputs": [
    {
     "data": {
      "text/html": [
       "<script>require.config({paths: {'echarts':'https://cdn.jsdelivr.net/npm/echarts@5.6.0/dist/echarts.min'}});</script><div id=\"cdc0c9fe5cf242bd9752b5114eb1fbfd\" style=\"width:800px; height:600px;\"></div><script>                require(['echarts'], function (echarts) {\n",
       "                    var chart_cdc0c9fe5cf242bd9752b5114eb1fbfd = echarts.init(document.getElementById('cdc0c9fe5cf242bd9752b5114eb1fbfd'), {renderer: 'canvas'});\n",
       "var option_cdc0c9fe5cf242bd9752b5114eb1fbfd = {\"xAxis\":{\"type\":\"value\"},\"yAxis\":{\"type\":\"value\"},\"dataset\":{\"source\":[[\"age\",\"height\"],[17,165],[21,183],[15,172],[47,169]]},\"series\":[{\"type\":\"scatter\",\"name\":\"age height\",\"encode\":{\"x\":\"age\",\"y\":[\"height\"]}}]};\n",
       "chart_cdc0c9fe5cf242bd9752b5114eb1fbfd.setOption(option_cdc0c9fe5cf242bd9752b5114eb1fbfd);\n",
       "                });</script>"
      ]
     },
     "execution_count": 10,
     "metadata": {
      "text/html": {
       "isolated": true
      }
     },
     "output_type": "execute_result"
    }
   ],
   "execution_count": 10
  },
  {
   "cell_type": "markdown",
   "id": "0fd88d2e",
   "metadata": {},
   "source": [
    "We have already met with `x` and `y`. These are *positional* aesthetic attributes. Each layer is characterized by its own set of aesthetic attributes, *aes* for short. Besides *positional* aes, there are also *non-positional* attributes (eg `color`, `size`, `width`). Such attributes are type safe. The aes value can be assigned in 2 ways: by setting and by mapping.\n",
    "\n",
    "Setting is a simply setting constant value:\n",
    "\n",
    "```kotlin\n",
    "x(12.0f)\n",
    "size(0.5)\n",
    "color(Color.RED)\n",
    "```\n",
    "\n",
    "Mapping is a mapping from the data column to the values of the aesthetic attribute:\n",
    "\n",
    "```kotlin\n",
    "x(name)\n",
    "size(age)\n",
    "color(height)\n",
    "```\n",
    "\n",
    "The function of this mapping is called scale. Scales play a key role in data visualization. In the examples above, the mappings use the default scales, but we can specify the scales explicitly. There are two types of scales --- categorical (or discrete) and continuous, depends on its domain and range type. If scale is continuous, its domain and range are set using limits, while categorical scale domain and range are set like lists of categories and corresponding to them values. Also scales can be either positional or non-positional (depending on which aesthetic attributes are displayed). Refined scales (with explicit domain/range) are typed. Continuous scales have transform parameter; it defines the function type (which is linear by default). \n",
    "\n",
    "Here are the special functions for creating scales:\n",
    "* `categorical()` - non-positional unspecified categorical scale\n",
    "* `continuous()` - non-positional unspecified continuous scale\n",
    "* `categoricalPos()` - positional unspecified categorical scale\n",
    "* `continuousPos()` - positional unspecified continuous scale\n",
    "* `categorical(listOf(true, false), listOf(Color.RED, Color.BLUE))` - non-positional categorical scale\n",
    "* `continuous<Double, Double>(rangeLimits = 8.0 to 17.0)` - non-positional continuous scale\n",
    "* `categoricalPos(listOf(1, 2, 4, 8, 16))` - positional categorical scale\n",
    "* `continuousPos(0 to 260)` - positional continuous scale\n",
    "\n",
    "\n",
    "To apply scale on column, simply use `.scaled()` extensin function of column and pass your scale as an argument. Note, that for refined scale its DomainType must match the type of column."
   ]
  },
  {
   "cell_type": "code",
   "id": "6fce6c5e",
   "metadata": {
    "ExecuteTime": {
     "end_time": "2025-04-21T17:27:36.964380Z",
     "start_time": "2025-04-21T17:27:36.841543Z"
    }
   },
   "source": [
    "df.plot { \n",
    "    x(name)\n",
    "    points { \n",
    "        y(height) { scale = continuous(150..200) }\n",
    "        size(age) { scale = continuous(domain = 10..50, range = 15.0..55.0) }\n",
    "    }\n",
    "}"
   ],
   "outputs": [
    {
     "data": {
      "text/html": [
       "<script>require.config({paths: {'echarts':'https://cdn.jsdelivr.net/npm/echarts@5.6.0/dist/echarts.min'}});</script><div id=\"f5956b9fd65a452f84cf2505ce0a105c\" style=\"width:800px; height:600px;\"></div><script>                require(['echarts'], function (echarts) {\n",
       "                    var chart_f5956b9fd65a452f84cf2505ce0a105c = echarts.init(document.getElementById('f5956b9fd65a452f84cf2505ce0a105c'), {renderer: 'canvas'});\n",
       "var option_f5956b9fd65a452f84cf2505ce0a105c = {\"xAxis\":{\"type\":\"category\"},\"yAxis\":{\"type\":\"value\",\"min\":\"150\",\"max\":\"200\"},\"visualMap\":[{\"type\":\"continuous\",\"min\":10.0,\"max\":50.0,\"dimension\":\"age\",\"seriesIndex\":0,\"inRange\":{\"symbolSize\":[15.0,55.0]},\"top\":0,\"right\":10}],\"dataset\":{\"source\":[[\"name\",\"height\",\"age\"],[\"Alice\",165,17],[\"Bob\",183,21],[\"Charlie\",172,15],[\"David\",169,47]]},\"series\":[{\"type\":\"scatter\",\"name\":\"name height\",\"encode\":{\"x\":\"name\",\"y\":[\"height\"]}}]};\n",
       "chart_f5956b9fd65a452f84cf2505ce0a105c.setOption(option_f5956b9fd65a452f84cf2505ce0a105c);\n",
       "                });</script>"
      ]
     },
     "execution_count": 11,
     "metadata": {
      "text/html": {
       "isolated": true
      }
     },
     "output_type": "execute_result"
    }
   ],
   "execution_count": 11
  },
  {
   "cell_type": "code",
   "id": "9cb59547",
   "metadata": {
    "ExecuteTime": {
     "end_time": "2025-04-21T17:27:37.033463Z",
     "start_time": "2025-04-21T17:27:36.972025Z"
    }
   },
   "source": [
    "df.plot { \n",
    "    x(name)\n",
    "    bars { \n",
    "        y(height) { scale = continuous(100..200) }\n",
    "        color(age)\n",
    "    }\n",
    "}"
   ],
   "outputs": [
    {
     "data": {
      "text/html": [
       "<script>require.config({paths: {'echarts':'https://cdn.jsdelivr.net/npm/echarts@5.6.0/dist/echarts.min'}});</script><div id=\"4ae97c3a051545b5a8597b1a236336d3\" style=\"width:800px; height:600px;\"></div><script>                require(['echarts'], function (echarts) {\n",
       "                    var chart_4ae97c3a051545b5a8597b1a236336d3 = echarts.init(document.getElementById('4ae97c3a051545b5a8597b1a236336d3'), {renderer: 'canvas'});\n",
       "var option_4ae97c3a051545b5a8597b1a236336d3 = {\"xAxis\":{\"type\":\"category\"},\"yAxis\":{\"type\":\"value\",\"min\":\"100\",\"max\":\"200\"},\"visualMap\":[{\"type\":\"continuous\",\"min\":15.0,\"max\":47.0,\"dimension\":\"age\",\"seriesIndex\":0,\"top\":0,\"right\":10}],\"dataset\":{\"source\":[[\"name\",\"height\",\"age\"],[\"Alice\",165,17],[\"Bob\",183,21],[\"Charlie\",172,15],[\"David\",169,47]]},\"series\":[{\"type\":\"bar\",\"name\":\"name height\",\"encode\":{\"x\":\"name\",\"y\":[\"height\"]}}]};\n",
       "chart_4ae97c3a051545b5a8597b1a236336d3.setOption(option_4ae97c3a051545b5a8597b1a236336d3);\n",
       "                });</script>"
      ]
     },
     "execution_count": 12,
     "metadata": {
      "text/html": {
       "isolated": true
      }
     },
     "output_type": "execute_result"
    }
   ],
   "execution_count": 12
  },
  {
   "cell_type": "markdown",
   "id": "e1121c08",
   "metadata": {},
   "source": [
    "## Layout"
   ]
  },
  {
   "cell_type": "markdown",
   "id": "ba6ed2c5",
   "metadata": {},
   "source": [
    "You can find all the settings for your chart in the `layout` layer. Such as plot *size*, *title*, *legend*, *grid* settings and others"
   ]
  },
  {
   "cell_type": "code",
   "id": "5e983109",
   "metadata": {
    "ExecuteTime": {
     "end_time": "2025-04-21T17:27:37.148866Z",
     "start_time": "2025-04-21T17:27:37.037559Z"
    }
   },
   "source": [
    "df.plot { \n",
    "    layout { \n",
    "        legend { right = 0.px }\n",
    "        tooltip { trigger = Trigger.AXIS }\n",
    "        title.text = \"Layout settings\"\n",
    "        textStyle.fontFamily = FontFamily.MONOSPACE\n",
    "        size = 900 to 600\n",
    "    }\n",
    "\n",
    "\n",
    "    x(name)\n",
    "    line { \n",
    "        name = \"Line\"\n",
    "        y(height)\n",
    "        color = Color.RED\n",
    "        width = 5.0\n",
    "    }\n",
    "    bars { \n",
    "        name = \"Bars\"\n",
    "        y(height)\n",
    "        color = LinearGradient(0.0, 0.0, 0.0, 1.0, listOf(Color.GREY, Color.ORANGE))\n",
    "    }\n",
    "}"
   ],
   "outputs": [
    {
     "data": {
      "text/html": [
       "<script>require.config({paths: {'echarts':'https://cdn.jsdelivr.net/npm/echarts@5.6.0/dist/echarts.min'}});</script><div id=\"203725871b594c7f889136a5f0488efb\" style=\"width:900px; height:600px;\"></div><script>                require(['echarts'], function (echarts) {\n",
       "                    var chart_203725871b594c7f889136a5f0488efb = echarts.init(document.getElementById('203725871b594c7f889136a5f0488efb'), {renderer: 'canvas'});\n",
       "var option_203725871b594c7f889136a5f0488efb = {\"title\":{\"text\":\"Layout settings\"},\"legend\":{\"right\":0},\"xAxis\":{\"type\":\"category\"},\"yAxis\":{\"type\":\"value\"},\"tooltip\":{\"trigger\":\"axis\"},\"dataset\":{\"source\":[[\"name\",\"height\"],[\"Alice\",165],[\"Bob\",183],[\"Charlie\",172],[\"David\",169]]},\"series\":[{\"type\":\"line\",\"name\":\"Line\",\"showSymbol\":false,\"itemStyle\":{\"color\":\"#ee6666\"},\"lineStyle\":{\"width\":5.0},\"encode\":{\"x\":\"name\",\"y\":[\"height\"]}},{\"type\":\"bar\",\"name\":\"Bars\",\"itemStyle\":{\"color\":{\"type\":\"linear\",\"x\":0.0,\"y\":0.0,\"x2\":0.0,\"y2\":1.0,\"colorStops\":[{\"offset\":0.0,\"color\":\"#a39999\"},{\"offset\":1.0,\"color\":\"#fc8452\"}]}},\"encode\":{\"x\":\"name\",\"y\":[\"height\"]}}],\"textStyle\":{\"fontFamily\":\"monospace\"}};\n",
       "chart_203725871b594c7f889136a5f0488efb.setOption(option_203725871b594c7f889136a5f0488efb);\n",
       "                });</script>"
      ]
     },
     "execution_count": 13,
     "metadata": {
      "text/html": {
       "isolated": true
      }
     },
     "output_type": "execute_result"
    }
   ],
   "execution_count": 13
  },
  {
   "metadata": {
    "ExecuteTime": {
     "end_time": "2025-04-21T17:27:37.153074Z",
     "start_time": "2025-04-21T17:27:37.152066Z"
    }
   },
   "cell_type": "code",
   "source": "",
   "id": "8fc73cf579c7d5be",
   "outputs": [],
   "execution_count": null
  }
 ],
 "metadata": {
  "kernelspec": {
   "display_name": "Kotlin",
   "language": "kotlin",
   "name": "kotlin"
  },
  "language_info": {
   "codemirror_mode": "text/x-kotlin",
   "file_extension": ".kt",
   "mimetype": "text/x-kotlin",
   "name": "kotlin",
   "nbconvert_exporter": "",
   "pygments_lexer": "kotlin",
   "version": "1.8.20-Beta"
  },
  "ktnbPluginMetadata": {
   "projectDependencies": [
    "kandy.kandy-echarts.main"
   ],
   "projectLibraries": false
  }
 },
 "nbformat": 4,
 "nbformat_minor": 5
}
