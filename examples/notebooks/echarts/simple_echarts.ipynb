{
 "cells": [
  {
   "cell_type": "code",
   "id": "13e9db2e",
   "metadata": {
    "ExecuteTime": {
     "end_time": "2025-04-21T17:15:58.487048Z",
     "start_time": "2025-04-21T17:15:58.470104Z"
    }
   },
   "source": [
    "%useLatestDescriptors\n",
    "%use kandy-echarts"
   ],
   "outputs": [],
   "execution_count": 1
  },
  {
   "cell_type": "code",
   "id": "90760de9",
   "metadata": {
    "ExecuteTime": {
     "end_time": "2025-04-21T17:15:58.596916Z",
     "start_time": "2025-04-21T17:15:58.494383Z"
    }
   },
   "source": [
    "val dataset = mapOf(\n",
    "    \"days_of_week\" to listOf(\"Mon\", \"Tue\", \"Wed\", \"Thu\", \"Fri\", \"Sat\", \"Sun\"),\n",
    "    \"evaporation\" to listOf(2.0, 4.9, 7.0, 23.2, 25.6, 76.7, 135.6),\n",
    "    \"precipitation\" to listOf(2.6, 5.9, 9.0, 26.4, 28.7, 70.7, 175.6),\n",
    "    \"temp\" to listOf(2.0, 2.2, 3.3, 4.5, 6.3, 10.2, 20.3)\n",
    ")"
   ],
   "outputs": [],
   "execution_count": 2
  },
  {
   "cell_type": "code",
   "id": "4caa8a34",
   "metadata": {
    "ExecuteTime": {
     "end_time": "2025-04-21T17:15:58.930405Z",
     "start_time": "2025-04-21T17:15:58.600346Z"
    }
   },
   "source": [
    "plot(dataset) {\n",
    "    x(\"days_of_week\"<String>())\n",
    "\n",
    "    bars {\n",
    "         name = \"Precipitation\"\n",
    "         y(\"precipitation\"<Double>()) { scale = continuous(0.0..200.0) }\n",
    "         color(\"temp\"<Double>()) { scale = continuous(range = Color.GREY..Color.BLUE) }\n",
    "         label {\n",
    "             position = LabelPosition.TOP\n",
    "             formatter = \"{@precipitation} ml\"\n",
    "         }\n",
    "    }\n",
    "\n",
    "    line {\n",
    "        name = \"Evaporation\"\n",
    "        y(\"evaporation\"<Double>())\n",
    "        symbol = Symbol.diamond(20.0)\n",
    "    }\n",
    "\n",
    "    layout {\n",
    "        title.text = \"Precipitation and evaporation per week\"\n",
    "        legend {\n",
    "            left = 50.pct\n",
    "            bottom = 0.px\n",
    "        }\n",
    "    }\n",
    "}"
   ],
   "outputs": [
    {
     "data": {
      "text/html": [
       "<script>require.config({paths: {'echarts':'https://cdn.jsdelivr.net/npm/echarts@5.6.0/dist/echarts.min'}});</script><div id=\"60ff2e1a887845ea97965cd30372beda\" style=\"width:800px; height:600px;\"></div><script>                require(['echarts'], function (echarts) {\n",
       "                    var chart_60ff2e1a887845ea97965cd30372beda = echarts.init(document.getElementById('60ff2e1a887845ea97965cd30372beda'), {renderer: 'canvas'});\n",
       "var option_60ff2e1a887845ea97965cd30372beda = {\"title\":{\"text\":\"Precipitation and evaporation per week\"},\"legend\":{\"left\":\"50%\",\"bottom\":0},\"xAxis\":{\"type\":\"category\"},\"yAxis\":{\"type\":\"value\",\"min\":\"0.0\",\"max\":\"200.0\"},\"visualMap\":[{\"type\":\"continuous\",\"min\":2.0,\"max\":20.3,\"dimension\":\"temp\",\"seriesIndex\":0,\"inRange\":{\"color\":[\"#a39999\",\"#5470c6\"]},\"top\":0,\"right\":10}],\"dataset\":{\"source\":[[\"days_of_week\",\"precipitation\",\"temp\",\"evaporation\"],[\"Mon\",2.6,2.0,2.0],[\"Tue\",5.9,2.2,4.9],[\"Wed\",9.0,3.3,7.0],[\"Thu\",26.4,4.5,23.2],[\"Fri\",28.7,6.3,25.6],[\"Sat\",70.7,10.2,76.7],[\"Sun\",175.6,20.3,135.6]]},\"series\":[{\"type\":\"bar\",\"name\":\"Precipitation\",\"label\":{\"show\":true,\"position\":\"top\",\"formatter\":\"{@precipitation} ml\"},\"encode\":{\"x\":\"days_of_week\",\"y\":[\"precipitation\"]}},{\"type\":\"line\",\"name\":\"Evaporation\",\"symbol\":\"diamond\",\"symbolSize\":20,\"showSymbol\":true,\"encode\":{\"x\":\"days_of_week\",\"y\":[\"evaporation\"]}}]};\n",
       "chart_60ff2e1a887845ea97965cd30372beda.setOption(option_60ff2e1a887845ea97965cd30372beda);\n",
       "                });</script>"
      ]
     },
     "execution_count": 3,
     "metadata": {
      "text/html": {
       "isolated": true
      }
     },
     "output_type": "execute_result"
    }
   ],
   "execution_count": 3
  }
 ],
 "metadata": {
  "kernelspec": {
   "display_name": "Kotlin",
   "language": "kotlin",
   "name": "kotlin"
  },
  "language_info": {
   "codemirror_mode": "text/x-kotlin",
   "file_extension": ".kt",
   "mimetype": "text/x-kotlin",
   "name": "kotlin",
   "nbconvert_exporter": "",
   "pygments_lexer": "kotlin",
   "version": "1.8.20-Beta"
  },
  "ktnbPluginMetadata": {
   "projectDependencies": [
    "kandy.kandy-echarts.main"
   ],
   "projectLibraries": false
  }
 },
 "nbformat": 4,
 "nbformat_minor": 5
}
