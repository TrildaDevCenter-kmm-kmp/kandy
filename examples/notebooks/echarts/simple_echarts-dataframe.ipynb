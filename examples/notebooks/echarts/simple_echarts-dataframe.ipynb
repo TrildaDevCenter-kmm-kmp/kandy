{
 "cells": [
  {
   "cell_type": "code",
   "id": "915cf28e",
   "metadata": {
    "ExecuteTime": {
     "end_time": "2025-04-21T17:16:01.190547Z",
     "start_time": "2025-04-21T17:15:59.949654Z"
    }
   },
   "source": [
    "%useLatestDescriptors\n",
    "%use kandy-echarts"
   ],
   "outputs": [
    {
     "data": {
      "text/html": [
       "            <div id=\"kotlin_out_0\"></div>\n",
       "            <script type=\"text/javascript\">\n",
       "                            if(!window.kotlinQueues) {\n",
       "                window.kotlinQueues = {};\n",
       "            }\n",
       "            if(!window.kotlinQueues[\"echarts\"]) {\n",
       "                var resQueue = [];\n",
       "                window.kotlinQueues[\"echarts\"] = resQueue;\n",
       "                window[\"call_echarts\"] = function(f) {\n",
       "                    resQueue.push(f);\n",
       "                }\n",
       "            }\n",
       "            (function (){\n",
       "                var modifiers = [(function(script) {\n",
       "    script.src = \"https://cdn.jsdelivr.net/npm/echarts@5.5/dist/echarts.min.js\"\n",
       "    script.type = \"text/javascript\";\n",
       "})];\n",
       "                var e = document.getElementById(\"kotlin_out_0\");\n",
       "                modifiers.forEach(function (gen) {\n",
       "                    var script = document.createElement(\"script\");\n",
       "                    gen(script)\n",
       "                    script.addEventListener(\"load\", function() {\n",
       "                        window[\"call_echarts\"] = function(f) {f();};\n",
       "                        window.kotlinQueues[\"echarts\"].forEach(function(f) {f();});\n",
       "                        window.kotlinQueues[\"echarts\"] = [];\n",
       "                    }, false);\n",
       "                    script.addEventListener(\"error\", function() {\n",
       "                        window[\"call_echarts\"] = function(f) {};\n",
       "                        window.kotlinQueues[\"echarts\"] = [];\n",
       "                        var div = document.createElement(\"div\");\n",
       "                        div.style.color = 'darkred';\n",
       "                        div.textContent = 'Error loading resource echarts';\n",
       "                        document.getElementById(\"kotlin_out_0\").appendChild(div);\n",
       "                    }, false);\n",
       "                    \n",
       "                    e.appendChild(script);\n",
       "                });\n",
       "            })();\n",
       "            </script>"
      ]
     },
     "metadata": {},
     "output_type": "display_data"
    }
   ],
   "execution_count": 1
  },
  {
   "cell_type": "code",
   "id": "5a1a76d2",
   "metadata": {
    "ExecuteTime": {
     "end_time": "2025-04-21T17:16:01.427398Z",
     "start_time": "2025-04-21T17:16:01.197430Z"
    }
   },
   "source": [
    "val simpleDataFrame = dataFrameOf(\n",
    "    \"days_of_week\" to listOf(\"Mon\", \"Tue\", \"Wed\", \"Thu\", \"Fri\", \"Sat\", \"Sun\"),\n",
    "    \"evaporation\" to listOf(2.0, 4.9, 7.0, 23.2, 25.6, 76.7, 135.6),\n",
    "    \"precipitation\" to listOf(2.6, 5.9, 9.0, 26.4, 28.7, 70.7, 175.6),\n",
    "    \"temp\" to listOf(2.0, 2.2, 3.3, 4.5, 6.3, 10.2, 20.3)\n",
    ")"
   ],
   "outputs": [],
   "execution_count": 2
  },
  {
   "cell_type": "code",
   "id": "d83ed6ee",
   "metadata": {
    "ExecuteTime": {
     "end_time": "2025-04-21T17:16:01.700130Z",
     "start_time": "2025-04-21T17:16:01.430504Z"
    }
   },
   "source": [
    "simpleDataFrame.plot{\n",
    "    x(\"days_of_week\"<String>())\n",
    "\n",
    "\n",
    "    bars {\n",
    "        name = \"Precipitation\"\n",
    "        y(\"precipitation\"<Double>()) { scale = continuous(0.0..200.0) }\n",
    "        color(\"temp\"<Double>()) { scale = continuous(range = Color.GREY..Color.BLUE) }\n",
    "        label {\n",
    "            position = LabelPosition.TOP\n",
    "            formatter = \"{@precipitation} ml\"\n",
    "        }\n",
    "    }\n",
    "\n",
    "    line {\n",
    "        name = \"Evaporation\"\n",
    "        y(\"evaporation\"<Double>())\n",
    "        symbol = Symbol.diamond(20.0)\n",
    "    }\n",
    "\n",
    "    layout {\n",
    "        title.text = \"Precipitation and evaporation per week\"\n",
    "        legend {\n",
    "            left = 50.pct\n",
    "            bottom = 0.px\n",
    "        }\n",
    "    }\n",
    "}"
   ],
   "outputs": [
    {
     "data": {
      "text/html": [
       "<script>require.config({paths: {'echarts':'https://cdn.jsdelivr.net/npm/echarts@5.5/dist/echarts.min'}});</script><div id=\"a1b6b55782d645e39916db0ea8f8d3cd\" style=\"width:800px; height:600px;\"></div><script>                require(['echarts'], function (echarts) {\n",
       "                    var chart_a1b6b55782d645e39916db0ea8f8d3cd = echarts.init(document.getElementById('a1b6b55782d645e39916db0ea8f8d3cd'), {renderer: 'canvas'});\n",
       "var option_a1b6b55782d645e39916db0ea8f8d3cd = {\"title\":{\"text\":\"Precipitation and evaporation per week\"},\"legend\":{\"left\":\"50%\",\"bottom\":0},\"xAxis\":{\"type\":\"category\"},\"yAxis\":{\"type\":\"value\",\"min\":\"0.0\",\"max\":\"200.0\"},\"visualMap\":[{\"type\":\"continuous\",\"min\":2.0,\"max\":20.3,\"dimension\":\"temp\",\"seriesIndex\":0,\"inRange\":{\"color\":[\"#a39999\",\"#5470c6\"]},\"top\":0,\"right\":10}],\"dataset\":{\"source\":[[\"days_of_week\",\"precipitation\",\"temp\",\"evaporation\"],[\"Mon\",\"2.6\",\"2.0\",\"2.0\"],[\"Tue\",\"5.9\",\"2.2\",\"4.9\"],[\"Wed\",\"9.0\",\"3.3\",\"7.0\"],[\"Thu\",\"26.4\",\"4.5\",\"23.2\"],[\"Fri\",\"28.7\",\"6.3\",\"25.6\"],[\"Sat\",\"70.7\",\"10.2\",\"76.7\"],[\"Sun\",\"175.6\",\"20.3\",\"135.6\"]]},\"series\":[{\"type\":\"bar\",\"name\":\"Precipitation\",\"label\":{\"show\":true,\"position\":\"top\",\"formatter\":\"{@precipitation} ml\"},\"encode\":{\"x\":\"days_of_week\",\"y\":\"precipitation\"}},{\"type\":\"line\",\"name\":\"Evaporation\",\"symbol\":\"diamond\",\"symbolSize\":20.0,\"showSymbol\":true,\"encode\":{\"x\":\"days_of_week\",\"y\":\"evaporation\"}}]};\n",
       "chart_a1b6b55782d645e39916db0ea8f8d3cd.setOption(option_a1b6b55782d645e39916db0ea8f8d3cd);\n",
       "                });</script>"
      ]
     },
     "execution_count": 3,
     "metadata": {
      "text/html": {
       "isolated": true
      }
     },
     "output_type": "execute_result"
    }
   ],
   "execution_count": 3
  }
 ],
 "metadata": {
  "kernelspec": {
   "display_name": "Kotlin",
   "language": "kotlin",
   "name": "kotlin"
  },
  "language_info": {
   "codemirror_mode": "text/x-kotlin",
   "file_extension": ".kt",
   "mimetype": "text/x-kotlin",
   "name": "kotlin",
   "nbconvert_exporter": "",
   "pygments_lexer": "kotlin",
   "version": "1.8.20-Beta"
  }
 },
 "nbformat": 4,
 "nbformat_minor": 5
}
