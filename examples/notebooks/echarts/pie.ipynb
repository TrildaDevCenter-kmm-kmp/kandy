{
 "cells": [
  {
   "metadata": {},
   "cell_type": "code",
   "outputs": [],
   "execution_count": null,
   "source": [
    "%useLatestDescriptors\n",
    "%use kandy-echarts"
   ]
  },
  {
   "metadata": {},
   "cell_type": "code",
   "outputs": [
    {
     "data": {
      "text/html": [
       "<script>require.config({paths: {'echarts':'https://cdn.jsdelivr.net/npm/echarts@5.6.0/dist/echarts.min'}});</script><div id=\"697174672b3147eb932e64f95b8ea838\" style=\"width:800px; height:600px;\"></div><script>                require(['echarts'], function (echarts) {\n",
       "                    var chart_697174672b3147eb932e64f95b8ea838 = echarts.init(document.getElementById('697174672b3147eb932e64f95b8ea838'), {renderer: 'canvas'});\n",
       "var option_697174672b3147eb932e64f95b8ea838 = {\"dataset\":{\"source\":[[\"name\",\"value\"],[\"A\",10],[\"B\",20],[\"C\",30],[\"D\",40]]},\"series\":[{\"type\":\"pie\",\"data\":[{\"name\":\"A\",\"value\":10},{\"name\":\"B\",\"value\":20},{\"name\":\"C\",\"value\":30},{\"name\":\"D\",\"value\":40}]}]};\n",
       "chart_697174672b3147eb932e64f95b8ea838.setOption(option_697174672b3147eb932e64f95b8ea838);\n",
       "                });</script>"
      ]
     },
     "execution_count": 1,
     "metadata": {
      "text/html": {
       "isolated": true
      }
     },
     "output_type": "execute_result"
    }
   ],
   "execution_count": 1,
   "source": [
    "val df = mapOf(\n",
    "    \"name\" to listOf(\"A\", \"B\", \"C\", \"D\"),\n",
    "    \"value\" to listOf(10, 20, 30, 40)\n",
    ")\n",
    "df.plot {\n",
    "    pie {\n",
    "        data(\"name\", \"value\")\n",
    "    }\n",
    "}"
   ]
  },
  {
   "metadata": {},
   "cell_type": "code",
   "outputs": [],
   "execution_count": 2,
   "source": [
    "val df = dataFrameOf(\n",
    "    \"name\" to listOf(\"Search\", \"Direct\", \"Email\", \"Union Ads\", \"Video Ads\"),\n",
    "    \"values\" to listOf(1048, 735, 580, 484, 300)\n",
    ")"
   ]
  },
  {
   "metadata": {},
   "cell_type": "code",
   "outputs": [
    {
     "data": {
      "text/html": [
       "<script>require.config({paths: {'echarts':'https://cdn.jsdelivr.net/npm/echarts@5.6.0/dist/echarts.min'}});</script><div id=\"f54f794eff074921ade6bf44eebe319a\" style=\"width:800px; height:600px;\"></div><script>                require(['echarts'], function (echarts) {\n",
       "                    var chart_f54f794eff074921ade6bf44eebe319a = echarts.init(document.getElementById('f54f794eff074921ade6bf44eebe319a'), {renderer: 'canvas'});\n",
       "var option_f54f794eff074921ade6bf44eebe319a = {\"dataset\":{\"source\":[[\"name\",\"values\"],[\"Search\",1048],[\"Direct\",735],[\"Email\",580],[\"Union Ads\",484],[\"Video Ads\",300]]},\"series\":[{\"type\":\"pie\",\"data\":[{\"name\":\"Search\",\"value\":1048},{\"name\":\"Direct\",\"value\":735},{\"name\":\"Email\",\"value\":580},{\"name\":\"Union Ads\",\"value\":484},{\"name\":\"Video Ads\",\"value\":300}]}]};\n",
       "chart_f54f794eff074921ade6bf44eebe319a.setOption(option_f54f794eff074921ade6bf44eebe319a);\n",
       "                });</script>"
      ]
     },
     "execution_count": 3,
     "metadata": {
      "text/html": {
       "isolated": true
      }
     },
     "output_type": "execute_result"
    }
   ],
   "execution_count": 3,
   "source": [
    "df.plot {\n",
    "    pie {\n",
    "        data(\"name\", \"values\")\n",
    "    }\n",
    "}"
   ]
  },
  {
   "metadata": {},
   "cell_type": "code",
   "outputs": [],
   "source": "",
   "execution_count": null
  }
 ],
 "metadata": {
  "kernelspec": {
   "display_name": "Kotlin",
   "language": "kotlin",
   "name": "kotlin"
  },
  "language_info": {
   "name": "kotlin",
   "version": "1.9.23",
   "mimetype": "text/x-kotlin",
   "file_extension": ".kt",
   "pygments_lexer": "kotlin",
   "codemirror_mode": "text/x-kotlin",
   "nbconvert_exporter": ""
  },
  "ktnbPluginMetadata": {
   "projectDependencies": [
    "kandy.kandy-echarts.main"
   ],
   "projectLibraries": false
  }
 },
 "nbformat": 4,
 "nbformat_minor": 0
}
