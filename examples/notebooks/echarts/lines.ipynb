{
 "cells": [
  {
   "cell_type": "code",
   "id": "d06ed5da",
   "metadata": {
    "ExecuteTime": {
     "end_time": "2025-04-21T17:28:15.348997Z",
     "start_time": "2025-04-21T17:28:15.333202Z"
    }
   },
   "source": [
    "%useLatestDescriptors\n",
    "%use kandy-echarts"
   ],
   "outputs": [],
   "execution_count": 1
  },
  {
   "cell_type": "markdown",
   "id": "d5080f6b",
   "metadata": {},
   "source": [
    "## Basic Line Chart"
   ]
  },
  {
   "cell_type": "code",
   "id": "28df87d9",
   "metadata": {
    "ExecuteTime": {
     "end_time": "2025-04-21T17:28:15.566566Z",
     "start_time": "2025-04-21T17:28:15.351940Z"
    }
   },
   "source": [
    "val df = dataFrameOf(\n",
    "        \"month\" to listOf(\"Jan\", \"Feb\", \"Mar\", \"Apr\", \"May\", \"Jun\", \"Jul\", \"Aug\", \"Sep\", \"Oct\", \"Nov\", \"Dec\"),\n",
    "        \"temp\" to listOf(-2, -1, 1, 5, 14, 22, 24, 24, 15, 6, 3, 0)\n",
    "    )"
   ],
   "outputs": [],
   "execution_count": 2
  },
  {
   "cell_type": "code",
   "id": "211090af",
   "metadata": {
    "ExecuteTime": {
     "end_time": "2025-04-21T17:28:15.704811Z",
     "start_time": "2025-04-21T17:28:15.572116Z"
    }
   },
   "source": [
    "df.plot {  \n",
    "    x(month)\n",
    "    line {\n",
    "        y(temp)\n",
    "    }\n",
    "}"
   ],
   "outputs": [
    {
     "data": {
      "text/html": [
       "<script>require.config({paths: {'echarts':'https://cdn.jsdelivr.net/npm/echarts@5.6.0/dist/echarts.min'}});</script><div id=\"5ee52e2bd3134d51948faf72d99720d7\" style=\"width:800px; height:600px;\"></div><script>                require(['echarts'], function (echarts) {\n",
       "                    var chart_5ee52e2bd3134d51948faf72d99720d7 = echarts.init(document.getElementById('5ee52e2bd3134d51948faf72d99720d7'), {renderer: 'canvas'});\n",
       "var option_5ee52e2bd3134d51948faf72d99720d7 = {\"xAxis\":{\"type\":\"category\"},\"yAxis\":{\"type\":\"value\"},\"dataset\":{\"source\":[[\"month\",\"temp\"],[\"Jan\",-2],[\"Feb\",-1],[\"Mar\",1],[\"Apr\",5],[\"May\",14],[\"Jun\",22],[\"Jul\",24],[\"Aug\",24],[\"Sep\",15],[\"Oct\",6],[\"Nov\",3],[\"Dec\",0]]},\"series\":[{\"type\":\"line\",\"name\":\"month temp\",\"showSymbol\":false,\"encode\":{\"x\":\"month\",\"y\":[\"temp\"]}}]};\n",
       "chart_5ee52e2bd3134d51948faf72d99720d7.setOption(option_5ee52e2bd3134d51948faf72d99720d7);\n",
       "                });</script>"
      ]
     },
     "execution_count": 3,
     "metadata": {
      "text/html": {
       "isolated": true
      }
     },
     "output_type": "execute_result"
    }
   ],
   "execution_count": 3
  },
  {
   "cell_type": "markdown",
   "id": "b7f5783a",
   "metadata": {},
   "source": [
    "## Smothed Line"
   ]
  },
  {
   "cell_type": "code",
   "id": "505b5013",
   "metadata": {
    "ExecuteTime": {
     "end_time": "2025-04-21T17:28:15.780588Z",
     "start_time": "2025-04-21T17:28:15.733499Z"
    }
   },
   "source": [
    "df.plot { \n",
    "    x(month)\n",
    "    y(temp)\n",
    "    line {\n",
    "        smooth = true\n",
    "    }\n",
    "}"
   ],
   "outputs": [
    {
     "data": {
      "text/html": [
       "<script>require.config({paths: {'echarts':'https://cdn.jsdelivr.net/npm/echarts@5.6.0/dist/echarts.min'}});</script><div id=\"6fc0bd87f7c34a0ba8bb943bf73dea82\" style=\"width:800px; height:600px;\"></div><script>                require(['echarts'], function (echarts) {\n",
       "                    var chart_6fc0bd87f7c34a0ba8bb943bf73dea82 = echarts.init(document.getElementById('6fc0bd87f7c34a0ba8bb943bf73dea82'), {renderer: 'canvas'});\n",
       "var option_6fc0bd87f7c34a0ba8bb943bf73dea82 = {\"xAxis\":{\"type\":\"category\"},\"yAxis\":{\"type\":\"value\"},\"dataset\":{\"source\":[[\"month\",\"temp\"],[\"Jan\",-2],[\"Feb\",-1],[\"Mar\",1],[\"Apr\",5],[\"May\",14],[\"Jun\",22],[\"Jul\",24],[\"Aug\",24],[\"Sep\",15],[\"Oct\",6],[\"Nov\",3],[\"Dec\",0]]},\"series\":[{\"type\":\"line\",\"name\":\"month temp\",\"showSymbol\":false,\"smooth\":true,\"encode\":{\"x\":\"month\",\"y\":[\"temp\"]}}]};\n",
       "chart_6fc0bd87f7c34a0ba8bb943bf73dea82.setOption(option_6fc0bd87f7c34a0ba8bb943bf73dea82);\n",
       "                });</script>"
      ]
     },
     "execution_count": 4,
     "metadata": {
      "text/html": {
       "isolated": true
      }
     },
     "output_type": "execute_result"
    }
   ],
   "execution_count": 4
  },
  {
   "cell_type": "markdown",
   "id": "5b44093d",
   "metadata": {},
   "source": [
    "## Line with symbols"
   ]
  },
  {
   "cell_type": "code",
   "id": "22952d51",
   "metadata": {
    "ExecuteTime": {
     "end_time": "2025-04-21T17:28:15.837554Z",
     "start_time": "2025-04-21T17:28:15.783863Z"
    }
   },
   "source": [
    "df.plot { \n",
    "    x(month)\n",
    "    y(temp)\n",
    "    line {\n",
    "        symbol = Symbol.CIRCLE\n",
    "    }\n",
    "}"
   ],
   "outputs": [
    {
     "data": {
      "text/html": [
       "<script>require.config({paths: {'echarts':'https://cdn.jsdelivr.net/npm/echarts@5.6.0/dist/echarts.min'}});</script><div id=\"2117a0e485d84b2abeda8b972a448eeb\" style=\"width:800px; height:600px;\"></div><script>                require(['echarts'], function (echarts) {\n",
       "                    var chart_2117a0e485d84b2abeda8b972a448eeb = echarts.init(document.getElementById('2117a0e485d84b2abeda8b972a448eeb'), {renderer: 'canvas'});\n",
       "var option_2117a0e485d84b2abeda8b972a448eeb = {\"xAxis\":{\"type\":\"category\"},\"yAxis\":{\"type\":\"value\"},\"dataset\":{\"source\":[[\"month\",\"temp\"],[\"Jan\",-2],[\"Feb\",-1],[\"Mar\",1],[\"Apr\",5],[\"May\",14],[\"Jun\",22],[\"Jul\",24],[\"Aug\",24],[\"Sep\",15],[\"Oct\",6],[\"Nov\",3],[\"Dec\",0]]},\"series\":[{\"type\":\"line\",\"name\":\"month temp\",\"symbol\":\"circle\",\"showSymbol\":true,\"encode\":{\"x\":\"month\",\"y\":[\"temp\"]}}]};\n",
       "chart_2117a0e485d84b2abeda8b972a448eeb.setOption(option_2117a0e485d84b2abeda8b972a448eeb);\n",
       "                });</script>"
      ]
     },
     "execution_count": 5,
     "metadata": {
      "text/html": {
       "isolated": true
      }
     },
     "output_type": "execute_result"
    }
   ],
   "execution_count": 5
  },
  {
   "cell_type": "code",
   "id": "daabbfa1",
   "metadata": {
    "ExecuteTime": {
     "end_time": "2025-04-21T17:28:15.881287Z",
     "start_time": "2025-04-21T17:28:15.840895Z"
    }
   },
   "source": [
    "df.plot { \n",
    "    x(month)\n",
    "    y(temp)\n",
    "    line {\n",
    "        symbol = Symbol.rect(size = 20.0, rotate = 45)\n",
    "    }\n",
    "}"
   ],
   "outputs": [
    {
     "data": {
      "text/html": [
       "<script>require.config({paths: {'echarts':'https://cdn.jsdelivr.net/npm/echarts@5.6.0/dist/echarts.min'}});</script><div id=\"ed76435ab5bc4afbb985a7af03c828b7\" style=\"width:800px; height:600px;\"></div><script>                require(['echarts'], function (echarts) {\n",
       "                    var chart_ed76435ab5bc4afbb985a7af03c828b7 = echarts.init(document.getElementById('ed76435ab5bc4afbb985a7af03c828b7'), {renderer: 'canvas'});\n",
       "var option_ed76435ab5bc4afbb985a7af03c828b7 = {\"xAxis\":{\"type\":\"category\"},\"yAxis\":{\"type\":\"value\"},\"dataset\":{\"source\":[[\"month\",\"temp\"],[\"Jan\",-2],[\"Feb\",-1],[\"Mar\",1],[\"Apr\",5],[\"May\",14],[\"Jun\",22],[\"Jul\",24],[\"Aug\",24],[\"Sep\",15],[\"Oct\",6],[\"Nov\",3],[\"Dec\",0]]},\"series\":[{\"type\":\"line\",\"name\":\"month temp\",\"symbol\":\"rect\",\"symbolSize\":20,\"symbolRotate\":45,\"showSymbol\":true,\"encode\":{\"x\":\"month\",\"y\":[\"temp\"]}}]};\n",
       "chart_ed76435ab5bc4afbb985a7af03c828b7.setOption(option_ed76435ab5bc4afbb985a7af03c828b7);\n",
       "                });</script>"
      ]
     },
     "execution_count": 6,
     "metadata": {
      "text/html": {
       "isolated": true
      }
     },
     "output_type": "execute_result"
    }
   ],
   "execution_count": 6
  },
  {
   "cell_type": "markdown",
   "id": "3fb4e05e",
   "metadata": {},
   "source": [
    "## Customize line"
   ]
  },
  {
   "cell_type": "code",
   "id": "dd430123",
   "metadata": {
    "ExecuteTime": {
     "end_time": "2025-04-21T17:28:16.004491Z",
     "start_time": "2025-04-21T17:28:15.884720Z"
    }
   },
   "source": [
    "df.plot { \n",
    "    x(month)\n",
    "    line {\n",
    "        y(temp)\n",
    "        color(temp) { scale = continuous(domain = temp.min()..temp.max()) }\n",
    "        width = 3.5\n",
    "        alpha = 0.9\n",
    "        lineType = LineType.SOLID\n",
    "        shadowBlur = 2\n",
    "    }\n",
    "}"
   ],
   "outputs": [
    {
     "data": {
      "text/html": [
       "<script>require.config({paths: {'echarts':'https://cdn.jsdelivr.net/npm/echarts@5.6.0/dist/echarts.min'}});</script><div id=\"ab165b0618e34812b34d00ad19943dfe\" style=\"width:800px; height:600px;\"></div><script>                require(['echarts'], function (echarts) {\n",
       "                    var chart_ab165b0618e34812b34d00ad19943dfe = echarts.init(document.getElementById('ab165b0618e34812b34d00ad19943dfe'), {renderer: 'canvas'});\n",
       "var option_ab165b0618e34812b34d00ad19943dfe = {\"xAxis\":{\"type\":\"category\"},\"yAxis\":{\"type\":\"value\"},\"visualMap\":[{\"type\":\"continuous\",\"min\":-2.0,\"max\":24.0,\"dimension\":\"temp\",\"seriesIndex\":0,\"top\":0,\"right\":10}],\"dataset\":{\"source\":[[\"month\",\"temp\"],[\"Jan\",-2],[\"Feb\",-1],[\"Mar\",1],[\"Apr\",5],[\"May\",14],[\"Jun\",22],[\"Jul\",24],[\"Aug\",24],[\"Sep\",15],[\"Oct\",6],[\"Nov\",3],[\"Dec\",0]]},\"series\":[{\"type\":\"line\",\"name\":\"month temp\",\"showSymbol\":false,\"itemStyle\":{\"opacity\":0.9},\"lineStyle\":{\"width\":3.5,\"type\":\"solid\",\"shadowBlur\":2,\"opacity\":0.9},\"encode\":{\"x\":\"month\",\"y\":[\"temp\"]}}]};\n",
       "chart_ab165b0618e34812b34d00ad19943dfe.setOption(option_ab165b0618e34812b34d00ad19943dfe);\n",
       "                });</script>"
      ]
     },
     "execution_count": 7,
     "metadata": {
      "text/html": {
       "isolated": true
      }
     },
     "output_type": "execute_result"
    }
   ],
   "execution_count": 7
  },
  {
   "cell_type": "markdown",
   "id": "54ffe651",
   "metadata": {},
   "source": [
    "## Step line"
   ]
  },
  {
   "cell_type": "code",
   "id": "6927cc7d",
   "metadata": {
    "ExecuteTime": {
     "end_time": "2025-04-21T17:28:16.187505Z",
     "start_time": "2025-04-21T17:28:16.032681Z"
    }
   },
   "source": [
    "val df = dataFrameOf(\n",
    "        \"month\" to listOf(\"Jan\", \"Feb\", \"Mar\", \"Apr\", \"May\", \"Jun\", \"Jul\", \"Aug\", \"Sep\", \"Oct\", \"Nov\", \"Dec\"),\n",
    "        \"start\" to listOf(-9, -9, -4, 1, 7, 11, 15, 13, 8, 3, -2, -6),\n",
    "        \"middle\" to listOf(-2, -1, 1, 5, 9, 12, 15, 14, 11, 6, 3, 0),\n",
    "        \"end\" to listOf(4, 4, 6, 9, 13, 17, 19, 19, 16, 12, 8, 5)\n",
    "    )"
   ],
   "outputs": [],
   "execution_count": 8
  },
  {
   "cell_type": "code",
   "id": "af412461",
   "metadata": {
    "ExecuteTime": {
     "end_time": "2025-04-21T17:28:16.247215Z",
     "start_time": "2025-04-21T17:28:16.193978Z"
    }
   },
   "source": [
    "df.plot { \n",
    "    x(month)\n",
    "    line {\n",
    "        y(start)\n",
    "        step = Step.START\n",
    "    }\n",
    "    line {\n",
    "        y(middle)\n",
    "        step = Step.MIDDLE\n",
    "    }\n",
    "    line {\n",
    "        y(end)\n",
    "        step = Step.END\n",
    "    }\n",
    "}"
   ],
   "outputs": [
    {
     "data": {
      "text/html": [
       "<script>require.config({paths: {'echarts':'https://cdn.jsdelivr.net/npm/echarts@5.6.0/dist/echarts.min'}});</script><div id=\"c42fbd2993eb482dbf89355f15982ec5\" style=\"width:800px; height:600px;\"></div><script>                require(['echarts'], function (echarts) {\n",
       "                    var chart_c42fbd2993eb482dbf89355f15982ec5 = echarts.init(document.getElementById('c42fbd2993eb482dbf89355f15982ec5'), {renderer: 'canvas'});\n",
       "var option_c42fbd2993eb482dbf89355f15982ec5 = {\"xAxis\":{\"type\":\"category\"},\"yAxis\":{\"type\":\"value\"},\"dataset\":{\"source\":[[\"month\",\"start\",\"middle\",\"end\"],[\"Jan\",-9,-2,4],[\"Feb\",-9,-1,4],[\"Mar\",-4,1,6],[\"Apr\",1,5,9],[\"May\",7,9,13],[\"Jun\",11,12,17],[\"Jul\",15,15,19],[\"Aug\",13,14,19],[\"Sep\",8,11,16],[\"Oct\",3,6,12],[\"Nov\",-2,3,8],[\"Dec\",-6,0,5]]},\"series\":[{\"type\":\"line\",\"name\":\"month start\",\"showSymbol\":false,\"step\":\"start\",\"encode\":{\"x\":\"month\",\"y\":[\"start\"]}},{\"type\":\"line\",\"name\":\"month middle\",\"showSymbol\":false,\"step\":\"middle\",\"encode\":{\"x\":\"month\",\"y\":[\"middle\"]}},{\"type\":\"line\",\"name\":\"month end\",\"showSymbol\":false,\"step\":\"end\",\"encode\":{\"x\":\"month\",\"y\":[\"end\"]}}]};\n",
       "chart_c42fbd2993eb482dbf89355f15982ec5.setOption(option_c42fbd2993eb482dbf89355f15982ec5);\n",
       "                });</script>"
      ]
     },
     "execution_count": 9,
     "metadata": {
      "text/html": {
       "isolated": true
      }
     },
     "output_type": "execute_result"
    }
   ],
   "execution_count": 9
  },
  {
   "cell_type": "markdown",
   "id": "e84f7038",
   "metadata": {},
   "source": [
    "## Stacked line"
   ]
  },
  {
   "cell_type": "code",
   "id": "e84332a9",
   "metadata": {
    "ExecuteTime": {
     "end_time": "2025-04-21T17:28:16.370535Z",
     "start_time": "2025-04-21T17:28:16.250403Z"
    }
   },
   "source": [
    "val df = dataFrameOf(\n",
    "    \"year\" to listOf(\"2015\", \"2016\", \"2017\", \"2018\", \"2019\", \"2020\", \"2021\"),\n",
    "    \"apple\" to listOf(233, 215, 229, 265, 260, 274, 365),\n",
    "    \"google\" to listOf(74, 89, 110, 136, 160, 181, 256),\n",
    "    \"microsoft\" to listOf(93, 85, 89, 110, 125, 143, 168)\n",
    "    )"
   ],
   "outputs": [],
   "execution_count": 10
  },
  {
   "cell_type": "code",
   "id": "131d8bff",
   "metadata": {
    "ExecuteTime": {
     "end_time": "2025-04-21T17:28:16.478848Z",
     "start_time": "2025-04-21T17:28:16.386699Z"
    }
   },
   "source": [
    "df.plot { \n",
    "    layout { \n",
    "        title.text = \"Revenue comparison\"\n",
    "        tooltip { trigger = Trigger.AXIS }\n",
    "    }\n",
    "    x(year)\n",
    "    val comp = stack(\"company\")\n",
    "    line {\n",
    "        name = \"Apple revenue\"\n",
    "        y(apple)\n",
    "        stack = comp\n",
    "    }\n",
    "    line { \n",
    "        name = \"Google revenue\"\n",
    "        y(google)\n",
    "        stack = comp\n",
    "    }\n",
    "    line { \n",
    "        name = \"Microsoft revenue\"\n",
    "        y(microsoft)\n",
    "        stack = comp\n",
    "    }\n",
    "}"
   ],
   "outputs": [
    {
     "data": {
      "text/html": [
       "<script>require.config({paths: {'echarts':'https://cdn.jsdelivr.net/npm/echarts@5.6.0/dist/echarts.min'}});</script><div id=\"eb62557f1c8849e9b17c725ac814b420\" style=\"width:800px; height:600px;\"></div><script>                require(['echarts'], function (echarts) {\n",
       "                    var chart_eb62557f1c8849e9b17c725ac814b420 = echarts.init(document.getElementById('eb62557f1c8849e9b17c725ac814b420'), {renderer: 'canvas'});\n",
       "var option_eb62557f1c8849e9b17c725ac814b420 = {\"title\":{\"text\":\"Revenue comparison\"},\"xAxis\":{\"type\":\"category\"},\"yAxis\":{\"type\":\"value\"},\"tooltip\":{\"trigger\":\"axis\"},\"dataset\":{\"source\":[[\"year\",\"apple\",\"google\",\"microsoft\"],[\"2015\",233,74,93],[\"2016\",215,89,85],[\"2017\",229,110,89],[\"2018\",265,136,110],[\"2019\",260,160,125],[\"2020\",274,181,143],[\"2021\",365,256,168]]},\"series\":[{\"type\":\"line\",\"name\":\"Apple revenue\",\"showSymbol\":false,\"stack\":\"company\",\"encode\":{\"x\":\"year\",\"y\":[\"apple\"]}},{\"type\":\"line\",\"name\":\"Google revenue\",\"showSymbol\":false,\"stack\":\"company\",\"encode\":{\"x\":\"year\",\"y\":[\"google\"]}},{\"type\":\"line\",\"name\":\"Microsoft revenue\",\"showSymbol\":false,\"stack\":\"company\",\"encode\":{\"x\":\"year\",\"y\":[\"microsoft\"]}}]};\n",
       "chart_eb62557f1c8849e9b17c725ac814b420.setOption(option_eb62557f1c8849e9b17c725ac814b420);\n",
       "                });</script>"
      ]
     },
     "execution_count": 11,
     "metadata": {
      "text/html": {
       "isolated": true
      }
     },
     "output_type": "execute_result"
    }
   ],
   "execution_count": 11
  }
 ],
 "metadata": {
  "kernelspec": {
   "display_name": "Kotlin",
   "language": "kotlin",
   "name": "kotlin"
  },
  "language_info": {
   "codemirror_mode": "text/x-kotlin",
   "file_extension": ".kt",
   "mimetype": "text/x-kotlin",
   "name": "kotlin",
   "nbconvert_exporter": "",
   "pygments_lexer": "kotlin",
   "version": "1.8.20-Beta"
  },
  "ktnbPluginMetadata": {
   "projectDependencies": [
    "kandy.kandy-echarts.main"
   ],
   "projectLibraries": false
  }
 },
 "nbformat": 4,
 "nbformat_minor": 5
}
